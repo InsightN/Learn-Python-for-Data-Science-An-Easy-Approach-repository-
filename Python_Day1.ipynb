{
 "cells": [
  {
   "cell_type": "markdown",
   "metadata": {},
   "source": [
    "# `Introduction to Python`  "
   ]
  },
  {
   "cell_type": "markdown",
   "metadata": {},
   "source": [
    "* Python is a `high-level` programming language that it was developed by `Guido van Rossum` in `1991` and further developed by the `Python Software Foundation`. It was designed to emphasize code `readability`, and its syntax allows programmers to express their concepts in fewer lines of code."
   ]
  },
  {
   "cell_type": "code",
   "execution_count": 1,
   "metadata": {},
   "outputs": [],
   "source": [
    "def add_numbers(a, b):\n",
    "    result = a + b\n",
    "    return result"
   ]
  },
  {
   "cell_type": "code",
   "execution_count": 15,
   "metadata": {},
   "outputs": [],
   "source": [
    "# LET SEE HOW MACHINE GENERATE BYTECODE CORESSESPONDENT OF CODE OF ABOVE CODE."
   ]
  },
  {
   "cell_type": "raw",
   "metadata": {},
   "source": [
    "Correspondent Bytecode\n",
    "\n",
    " 1           0 LOAD_FAST                0 (a)\n",
    "             2 LOAD_FAST                1 (b)\n",
    "             4 BINARY_ADD\n",
    "             6 STORE_FAST               2 (result)\n",
    "             8 LOAD_FAST                2 (result)\n",
    "            10 RETURN_VALUE"
   ]
  },
  {
   "cell_type": "markdown",
   "metadata": {},
   "source": [
    "* Python is a general purpose,high-level programming language that is widely used for a variety of purposes \n",
    "Including `'Web Development'`, `'Data Analysis'`, `'Scientific Computing'`, and  much more. \n",
    "It is known for its `'Simplicity'`, `'Readability'`, and `'Flexibility'`, which makes it a popular choice for both beginners and experienced programmers.\n",
    "\n",
    "* Python is an interpreted language, which means that it is executed at runtime rather than being compiled into machine code. This makes it easier to write and test code, as you don't need to go through a separate compilation."
   ]
  },
  {
   "cell_type": "markdown",
   "metadata": {},
   "source": [
    "## `Feature of Python Programming Language:`"
   ]
  },
  {
   "cell_type": "markdown",
   "metadata": {},
   "source": [
    "### `Interpreted`\n"
   ]
  },
  {
   "cell_type": "markdown",
   "metadata": {},
   "source": [
    "* There are no separate compilation and execution steps like C and C++.\n",
    "* Directly run the program from the source code.\n",
    "* Internally, In python  the programs/source code converted into an intermediate form called bytecodes which is then translated into the native language of the specific computer to run it.\n",
    "* No need to import the library for general purpose task, etc.\n"
   ]
  },
  {
   "cell_type": "markdown",
   "metadata": {},
   "source": [
    "### `Platform Independent`"
   ]
  },
  {
   "cell_type": "markdown",
   "metadata": {},
   "source": [
    "* you can run your Python programs  on multiple operating system platforms..\n",
    "* Python can be used on Windows, Linux, Mac os, and many more.\n",
    "* Python is Free and Open source so you can also contribute or change it according to your need."
   ]
  },
  {
   "cell_type": "markdown",
   "metadata": {},
   "source": [
    "### `High-level Language`"
   ]
  },
  {
   "cell_type": "markdown",
   "metadata": {},
   "source": [
    "* In Python, no need to take care of low-level details such as managing the memory used by the program."
   ]
  },
  {
   "cell_type": "markdown",
   "metadata": {},
   "source": [
    "### `Simple`"
   ]
  },
  {
   "cell_type": "markdown",
   "metadata": {},
   "source": [
    "* Closer to the English language; Easy to Learn\n",
    "* More emphasis on the solution to the problem rather than the syntax"
   ]
  },
  {
   "cell_type": "markdown",
   "metadata": {},
   "source": [
    "### `Robust:`\n",
    "* Exceptional handling features\n",
    "* Memory management techniques are inbuilt"
   ]
  },
  {
   "cell_type": "code",
   "execution_count": 3,
   "metadata": {},
   "outputs": [
    {
     "name": "stdout",
     "output_type": "stream",
     "text": [
      "Enter first month salary:800000\n",
      "800000\n"
     ]
    }
   ],
   "source": [
    "try:\n",
    "    salary=int(input(\"Enter first month salary:\"))\n",
    "except ValueError:\n",
    "    print(\"Please input Valid Salary!!\")\n",
    "else:\n",
    "    print(salary)"
   ]
  },
  {
   "cell_type": "code",
   "execution_count": 5,
   "metadata": {},
   "outputs": [],
   "source": [
    "# lets get wrong input."
   ]
  },
  {
   "cell_type": "code",
   "execution_count": 6,
   "metadata": {},
   "outputs": [
    {
     "name": "stdout",
     "output_type": "stream",
     "text": [
      "Enter first month salary:6 LPA\n",
      "Please input Valid Salary!!\n"
     ]
    }
   ],
   "source": [
    "try:\n",
    "    salary=int(input(\"Enter first month salary:\"))\n",
    "except ValueError:\n",
    "    print(\"Please input Valid Salary!!\")\n",
    "else:\n",
    "    print(salary)"
   ]
  },
  {
   "cell_type": "markdown",
   "metadata": {},
   "source": [
    "### `Rich Library Support`\n",
    "* The Python Standard Library is very vast.\n",
    "* Known as the \"batteries included\" philosophy of Python; It can help do various things involving regular expressions, documentation generation, `unit testing`, `threading`, `databases`, `web browsers`, `CGI`, `email`, `XML`,` HTML`, `WAV files`, `cryptography`,` GUI` and many more.\n"
   ]
  },
  {
   "cell_type": "markdown",
   "metadata": {},
   "source": [
    "### `Advantages :`\n",
    "\n",
    "* `1.It's a high-level language`\n",
    "\n",
    "* `2.Interpreted Language`\n",
    "\n",
    "* `3.Object-oriented language`\n",
    "\n",
    "* `4.Easy to read, learn and write,Versatile`\n",
    "\n",
    "* `5.User-friendly data structures`\n",
    "\n",
    "* `6.Portable and Interactive`\n",
    "\n",
    "* `7.Dynamic typed language(No need to specify the data type based on the value assigned it makes the that data type of variable.)\n",
    "`\n",
    "* `8.Presence of third-party modules`\n",
    "\n",
    "* `9.Python is open source and large community development`\n",
    "\n",
    "* `10.Ideal for prototypes - provide more functionality with less coding`\n",
    "\n",
    "* `11.Highly Efficient(Python's clean object-oriented design provides enhanced process control, and the language is equipped with excellent text processing and integration capabilities, as well as its own unit testing framework, which makes it more efficient.)`\n",
    "\n",
    "* `12.Internet of Things(IoT) Opportunities`\n",
    "\n",
    "* `13.Extensive support libraries(NumPy for numerical calculations, Pandas for data analytics etc)`"
   ]
  },
  {
   "cell_type": "markdown",
   "metadata": {},
   "source": [
    "### `Applications :`\n",
    "* `1.Data Science`\n",
    "* `2.Graphic design, image processing applications, Games, and Scientific/ computational Applications`\n",
    "* `3.Web frameworks and applications`\n",
    "* `4.Software Development`\n",
    "* `5.Operating Systems`\n",
    "* `6.Education`\n",
    "* `7.Database Access`\n",
    "* `8.Language Development`\n",
    "* `9.GUI based desktop applications` \n",
    "* `10.Enterprise and Business applications`"
   ]
  },
  {
   "cell_type": "markdown",
   "metadata": {},
   "source": [
    "### `Organizations using Python :`\n",
    "* `1.Google `\n",
    "* `2.Netflix`\n",
    "* `3.YouTube`\n",
    "* `4.Microsoft`\n",
    "* `5.Dropbox`\n",
    "* `6.Mozilla`\n",
    "* `7.Cisco`\n",
    "* `8.Spotify`\n",
    "* `9.Quora`\n",
    "* `10. Yahoo (Maps)`"
   ]
  },
  {
   "cell_type": "markdown",
   "metadata": {},
   "source": [
    "#### Let look some basic function that really helpful .."
   ]
  },
  {
   "cell_type": "code",
   "execution_count": 8,
   "metadata": {},
   "outputs": [
    {
     "name": "stdout",
     "output_type": "stream",
     "text": [
      "\n",
      "Here is a list of the Python keywords.  Enter any keyword to get more help.\n",
      "\n",
      "False               class               from                or\n",
      "None                continue            global              pass\n",
      "True                def                 if                  raise\n",
      "and                 del                 import              return\n",
      "as                  elif                in                  try\n",
      "assert              else                is                  while\n",
      "async               except              lambda              with\n",
      "await               finally             nonlocal            yield\n",
      "break               for                 not                 \n",
      "\n"
     ]
    }
   ],
   "source": [
    "# let see all keywords that avilable in python using help()\n",
    "help(\"keywords\")"
   ]
  },
  {
   "cell_type": "code",
   "execution_count": 5,
   "metadata": {},
   "outputs": [
    {
     "name": "stdout",
     "output_type": "stream",
     "text": [
      "The \"if\" statement\n",
      "******************\n",
      "\n",
      "The \"if\" statement is used for conditional execution:\n",
      "\n",
      "   if_stmt ::= \"if\" assignment_expression \":\" suite\n",
      "               (\"elif\" assignment_expression \":\" suite)*\n",
      "               [\"else\" \":\" suite]\n",
      "\n",
      "It selects exactly one of the suites by evaluating the expressions one\n",
      "by one until one is found to be true (see section Boolean operations\n",
      "for the definition of true and false); then that suite is executed\n",
      "(and no other part of the \"if\" statement is executed or evaluated).\n",
      "If all expressions are false, the suite of the \"else\" clause, if\n",
      "present, is executed.\n",
      "\n",
      "Related help topics: TRUTHVALUE\n",
      "\n"
     ]
    }
   ],
   "source": [
    "help('if')"
   ]
  },
  {
   "cell_type": "code",
   "execution_count": null,
   "metadata": {},
   "outputs": [],
   "source": []
  },
  {
   "cell_type": "code",
   "execution_count": 3,
   "metadata": {},
   "outputs": [
    {
     "name": "stdout",
     "output_type": "stream",
     "text": [
      "90\n"
     ]
    }
   ],
   "source": [
    "_123=90\n",
    "print(_123)"
   ]
  },
  {
   "cell_type": "code",
   "execution_count": 10,
   "metadata": {},
   "outputs": [
    {
     "name": "stdout",
     "output_type": "stream",
     "text": [
      "['__add__', '__class__', '__class_getitem__', '__contains__', '__delattr__', '__delitem__', '__dir__', '__doc__', '__eq__', '__format__', '__ge__', '__getattribute__', '__getitem__', '__gt__', '__hash__', '__iadd__', '__imul__', '__init__', '__init_subclass__', '__iter__', '__le__', '__len__', '__lt__', '__mul__', '__ne__', '__new__', '__reduce__', '__reduce_ex__', '__repr__', '__reversed__', '__rmul__', '__setattr__', '__setitem__', '__sizeof__', '__str__', '__subclasshook__', 'append', 'clear', 'copy', 'count', 'extend', 'index', 'insert', 'pop', 'remove', 'reverse', 'sort']\n"
     ]
    }
   ],
   "source": [
    "## it return all function associated with list(object).\n",
    "print(dir(list)) "
   ]
  },
  {
   "cell_type": "code",
   "execution_count": 2,
   "metadata": {},
   "outputs": [
    {
     "name": "stdout",
     "output_type": "stream",
     "text": [
      "Help on wrapper_descriptor:\n",
      "\n",
      "__add__(self, value, /)\n",
      "    Return self+value.\n",
      "\n",
      "None\n"
     ]
    }
   ],
   "source": [
    "print(help(list.__add__))"
   ]
  },
  {
   "cell_type": "code",
   "execution_count": 11,
   "metadata": {},
   "outputs": [
    {
     "name": "stdout",
     "output_type": "stream",
     "text": [
      "The \"assert\" statement\n",
      "**********************\n",
      "\n",
      "Assert statements are a convenient way to insert debugging assertions\n",
      "into a program:\n",
      "\n",
      "   assert_stmt ::= \"assert\" expression [\",\" expression]\n",
      "\n",
      "The simple form, \"assert expression\", is equivalent to\n",
      "\n",
      "   if __debug__:\n",
      "       if not expression: raise AssertionError\n",
      "\n",
      "The extended form, \"assert expression1, expression2\", is equivalent to\n",
      "\n",
      "   if __debug__:\n",
      "       if not expression1: raise AssertionError(expression2)\n",
      "\n",
      "These equivalences assume that \"__debug__\" and \"AssertionError\" refer\n",
      "to the built-in variables with those names.  In the current\n",
      "implementation, the built-in variable \"__debug__\" is \"True\" under\n",
      "normal circumstances, \"False\" when optimization is requested (command\n",
      "line option \"-O\").  The current code generator emits no code for an\n",
      "assert statement when optimization is requested at compile time.  Note\n",
      "that it is unnecessary to include the source code for the expression\n",
      "that failed in the error message; it will be displayed as part of the\n",
      "stack trace.\n",
      "\n",
      "Assignments to \"__debug__\" are illegal.  The value for the built-in\n",
      "variable is determined when the interpreter starts.\n",
      "\n"
     ]
    }
   ],
   "source": [
    "# using help() you can know about the any object(ex- about any function,keyword etc.)\n",
    "help('assert')"
   ]
  },
  {
   "cell_type": "code",
   "execution_count": 14,
   "metadata": {},
   "outputs": [
    {
     "name": "stdout",
     "output_type": "stream",
     "text": [
      "Help on class map in module builtins:\n",
      "\n",
      "class map(object)\n",
      " |  map(func, *iterables) --> map object\n",
      " |  \n",
      " |  Make an iterator that computes the function using arguments from\n",
      " |  each of the iterables.  Stops when the shortest iterable is exhausted.\n",
      " |  \n",
      " |  Methods defined here:\n",
      " |  \n",
      " |  __getattribute__(self, name, /)\n",
      " |      Return getattr(self, name).\n",
      " |  \n",
      " |  __iter__(self, /)\n",
      " |      Implement iter(self).\n",
      " |  \n",
      " |  __next__(self, /)\n",
      " |      Implement next(self).\n",
      " |  \n",
      " |  __reduce__(...)\n",
      " |      Return state information for pickling.\n",
      " |  \n",
      " |  ----------------------------------------------------------------------\n",
      " |  Static methods defined here:\n",
      " |  \n",
      " |  __new__(*args, **kwargs) from builtins.type\n",
      " |      Create and return a new object.  See help(type) for accurate signature.\n",
      "\n"
     ]
    }
   ],
   "source": [
    "help(map) "
   ]
  },
  {
   "cell_type": "markdown",
   "metadata": {},
   "source": [
    "## `Tokens`"
   ]
  },
  {
   "cell_type": "markdown",
   "metadata": {},
   "source": [
    "A token is the smallest unit of the program. Tokens are the building blocks of code, and the lexer (or tokenizer) of the programming language breaks down the source code into these tokens for further processing by the compiler or interpreter. Keywords, identifiers, operators, literals."
   ]
  },
  {
   "cell_type": "markdown",
   "metadata": {},
   "source": [
    "`keywords`\n",
    "`Identifiers`\n",
    "`Constant/Literals`\n",
    "`Operators:`\n",
    "`Symbols/Panctuation` "
   ]
  },
  {
   "cell_type": "markdown",
   "metadata": {},
   "source": [
    "`Keywords:`Keywords are reserved terms in the language that have specific meanings. Some examples are \"if,\" \"else,\" \"for,\" \"while,\" \"class,\" and \"function.\""
   ]
  },
  {
   "cell_type": "code",
   "execution_count": 15,
   "metadata": {},
   "outputs": [
    {
     "name": "stdout",
     "output_type": "stream",
     "text": [
      "\n",
      "Here is a list of the Python keywords.  Enter any keyword to get more help.\n",
      "\n",
      "False               class               from                or\n",
      "None                continue            global              pass\n",
      "True                def                 if                  raise\n",
      "and                 del                 import              return\n",
      "as                  elif                in                  try\n",
      "assert              else                is                  while\n",
      "async               except              lambda              with\n",
      "await               finally             nonlocal            yield\n",
      "break               for                 not                 \n",
      "\n"
     ]
    }
   ],
   "source": [
    "# let see all keywords that avilable in python using help()\n",
    "help(\"keywords\")"
   ]
  },
  {
   "cell_type": "markdown",
   "metadata": {},
   "source": [
    "#  `Identifier & Variable`"
   ]
  },
  {
   "cell_type": "markdown",
   "metadata": {},
   "source": [
    "`Identifiers:` In programming, identifiers are used to name variables, functions, classes, and other user-defined entities. They are often made up of letters, digits, and underscores and must adhere to certain naming conventions in each language."
   ]
  },
  {
   "cell_type": "markdown",
   "metadata": {},
   "source": [
    "#### ` Identifier`\n",
    "* An identifier is a name used to identify a variable, function, or other object in a computer program. In most programming languages.\n",
    "* an identifier is a sequence of letters, digits, and underscores, \n",
    "* and must start with a letter or an underscore. \n",
    "* Identifiers are used to give names to variables, functions, and other objects so that they can be referred to in the code."
   ]
  },
  {
   "cell_type": "markdown",
   "metadata": {},
   "source": [
    "#### `Variable`\n",
    "* A variable is a storage location and an associated symbolic name (an identifier) which contains some known or unknown quantity or information, a value.\n",
    "* A variable in Python is a named location in memory where you can store a value. You can use variables to store data such as numbers, strings, and objects\n"
   ]
  },
  {
   "cell_type": "markdown",
   "metadata": {},
   "source": [
    "### `Indentifier.`"
   ]
  },
  {
   "cell_type": "markdown",
   "metadata": {},
   "source": [
    "In general when we need to store any thing we need a container that hold that object..\n",
    "same as in every programming language we need such type of container that is nothing but refered as variable.\n",
    "so how we can make varible that contain your data  in programing language it is one kind  indetifier. so let see how we can make identifier.\n",
    "\n",
    "In programming languages, an identifier is a name used to identify a variable, function, class, or any other entity in the code. It is essentially a user-defined name that represents a specific element within the program.\n"
   ]
  },
  {
   "cell_type": "markdown",
   "metadata": {},
   "source": [
    "#### `Rules for creating Identifier in Python`\n",
    "* `A variable name must start with a letter or the underscore.`\n",
    "* `A variable name can't start with a number.`\n",
    "* `A variable name can only contain alpha-numeric characters and underscores (A-z, 0-9, and _ ).`\n",
    "* `Variable names are case-sensitive (name, Name and NAME are three different variables).`\n",
    "* `Variable name should not be a keyword or function name ,method name or class name.`"
   ]
  },
  {
   "cell_type": "code",
   "execution_count": 16,
   "metadata": {},
   "outputs": [],
   "source": [
    "st2ndsalary=120000"
   ]
  },
  {
   "cell_type": "code",
   "execution_count": 17,
   "metadata": {},
   "outputs": [],
   "source": [
    "_var1=12"
   ]
  },
  {
   "cell_type": "code",
   "execution_count": 19,
   "metadata": {},
   "outputs": [],
   "source": [
    "name=\"Nandan\"\n",
    "salary=12778"
   ]
  },
  {
   "cell_type": "code",
   "execution_count": 21,
   "metadata": {},
   "outputs": [
    {
     "name": "stdout",
     "output_type": "stream",
     "text": [
      "Nandan\n"
     ]
    }
   ],
   "source": [
    "print(name)"
   ]
  },
  {
   "cell_type": "code",
   "execution_count": 24,
   "metadata": {},
   "outputs": [
    {
     "name": "stdout",
     "output_type": "stream",
     "text": [
      "hiii i am nandan.\n",
      "i am from patna bihar\n"
     ]
    }
   ],
   "source": [
    "intro='''hiii i am nandan.\n",
    "i am from patna bihar'''\n",
    "print(intro)"
   ]
  },
  {
   "cell_type": "markdown",
   "metadata": {},
   "source": [
    "### `Constants/Literals`\n",
    "* Literals are the value/raw data that assigned to variables or constants while programming. "
   ]
  },
  {
   "cell_type": "markdown",
   "metadata": {},
   "source": [
    "**`There are five types of literal in Python.`**\n",
    "* `String Literals`\n",
    "    * In Python string literals the text or the group of characters in `single('Raman')`, `double(\"Rohit\")` or triple`(\"\"\"Rahi\"\"\")` quotes.Using triple quotes also allows us to write multi-line strings.\n",
    "* `Numeric Literals`\n",
    "    * Numerical literals are those literals that contain digits only and they are immutable, ex-56,67.90,-78,or any number system like `binary, octal,hexdecimal`.\n",
    "* Complex literals are represented by `A+Bj`.\n",
    "       A is the real part.B part,along with j, is the imaginary or complex part. j here represents the square root of -1, which is nothing but the `iota` or i we use in Mathematics.\n",
    "* `boolean Literals`\n",
    "    * its either True or Fasle. \n",
    "* `Literal Collections`\n",
    "     * If we wish to work with more than one value, then we can go for literal collections in Python. Literal collections in Python are of four types-`list`,`tuple`,`set`,`dictionary`\n",
    "* `Special Literals`\n",
    "    * Python literals have one special literal known as `None`"
   ]
  },
  {
   "cell_type": "markdown",
   "metadata": {},
   "source": [
    "#### `printing these literals`\n",
    "**`1:string literals`**"
   ]
  },
  {
   "cell_type": "code",
   "execution_count": 29,
   "metadata": {},
   "outputs": [
    {
     "name": "stdout",
     "output_type": "stream",
     "text": [
      "My Name: nandan Kumar tiwari\n",
      "hii i  am a software devloper.\n",
      " i started this position from last year. \n"
     ]
    }
   ],
   "source": [
    "f_name=\"nandan\"\n",
    "m_name=\"Kumar\"\n",
    "l_name='tiwari'\n",
    "my_into=\"\"\"hii i  am a software devloper.\n",
    "i started this position from last year. \"\"\"\n",
    "print(\"My Name:\",f_name+\" \"+m_name+\" \"+l_name)\n",
    "print(my_into)"
   ]
  },
  {
   "cell_type": "code",
   "execution_count": 18,
   "metadata": {},
   "outputs": [
    {
     "data": {
      "text/plain": [
       "str"
      ]
     },
     "execution_count": 18,
     "metadata": {},
     "output_type": "execute_result"
    }
   ],
   "source": [
    "type(f_name)"
   ]
  },
  {
   "cell_type": "markdown",
   "metadata": {},
   "source": [
    "**`2:Numeric literals`**"
   ]
  },
  {
   "cell_type": "code",
   "execution_count": 30,
   "metadata": {},
   "outputs": [
    {
     "name": "stdout",
     "output_type": "stream",
     "text": [
      "My age: 30\n",
      "My weight:67.6\n",
      "Binary re-presentation of 10=10\n",
      "Octal re-presentation of 12=12\n"
     ]
    }
   ],
   "source": [
    "my_age=30 # int\n",
    "my_weight=67.6 # float\n",
    "binary_10=0b1010 # binary\n",
    "octal_12=0o14   #octal\n",
    "print(\"My age:\",my_age)\n",
    "print(f\"My weight:{my_weight}\")\n",
    "print(f\"Binary re-presentation of 10={binary_10}\")\n",
    "print(f\"Octal re-presentation of 12={octal_12}\")"
   ]
  },
  {
   "cell_type": "code",
   "execution_count": 26,
   "metadata": {},
   "outputs": [
    {
     "name": "stdout",
     "output_type": "stream",
     "text": [
      "my name is rahuk and my age is 14\n",
      "my name is rahuk and my age is 14\n"
     ]
    }
   ],
   "source": [
    "name=\"rahuk\"\n",
    "age=14\n",
    "print(f'my name is {name} and my age is {age}')# easy\n",
    "print('my name is {1} and my age is {0}'.format(age,name))\n",
    "# Above two way to format the sting( it is nothing but technique to printing data in between string)"
   ]
  },
  {
   "cell_type": "code",
   "execution_count": 31,
   "metadata": {},
   "outputs": [
    {
     "name": "stdout",
     "output_type": "stream",
     "text": [
      "(6-8j)\n",
      "6.0\n",
      "-8.0\n"
     ]
    }
   ],
   "source": [
    "my_complex=6-8j  # complex literals that in the form of a+bj, that is a=real part and b=imaginary part of complex number.\n",
    "print(my_complex)\n",
    "print(my_complex.real)\n",
    "print(my_complex.imag)"
   ]
  },
  {
   "cell_type": "markdown",
   "metadata": {},
   "source": [
    "#### `3:Boolean Literals`\n"
   ]
  },
  {
   "cell_type": "code",
   "execution_count": 32,
   "metadata": {},
   "outputs": [
    {
     "name": "stdout",
     "output_type": "stream",
     "text": [
      "I am a teacher True\n"
     ]
    }
   ],
   "source": [
    "im_teacher=True\n",
    "print(\"I am a teacher\",im_teacher)"
   ]
  },
  {
   "cell_type": "markdown",
   "metadata": {},
   "source": [
    "#### `4:Literal Collections`"
   ]
  },
  {
   "cell_type": "code",
   "execution_count": 35,
   "metadata": {},
   "outputs": [
    {
     "name": "stdout",
     "output_type": "stream",
     "text": [
      "[12, 3, 3, 'Aditya', 'Hari', 'BIT']\n",
      "('I', 'am', 'Not', 'Changeable', 'inrollment_num', 5878999)\n",
      "{1, 2, 4, 'duplicate', 'I', 43, 'unordered', 'am', 'and', 'remover'}\n",
      "{1: 'One', 2: 'Two', 3: ''}\n"
     ]
    }
   ],
   "source": [
    "my_first_list=[12,3,3,\"Aditya\",'Hari',\"BIT\"]\n",
    "my_first_tuple=(\"I\",\"am\",\"Not\",\"Changeable\",\"inrollment_num\",5878999)\n",
    "first_set={1,2,43,4,1,2,4,\"I\",\"am\",\"unordered\",\"and\",\"duplicate\",\"remover\"}\n",
    "first_dict={1:\"One\",2:\"Two\",3:\"\"}\n",
    "print(my_first_list)\n",
    "print(my_first_tuple)\n",
    "print(first_set)\n",
    "print(first_dict)"
   ]
  },
  {
   "cell_type": "markdown",
   "metadata": {},
   "source": [
    "#### `5:Special Literal`"
   ]
  },
  {
   "cell_type": "code",
   "execution_count": 36,
   "metadata": {},
   "outputs": [
    {
     "name": "stdout",
     "output_type": "stream",
     "text": [
      "None\n",
      "<class 'NoneType'>\n"
     ]
    }
   ],
   "source": [
    "nothing=None\n",
    "print(nothing)\n",
    "print(type(nothing))"
   ]
  },
  {
   "cell_type": "markdown",
   "metadata": {},
   "source": [
    "#  `User Input / Output`"
   ]
  },
  {
   "cell_type": "markdown",
   "metadata": {},
   "source": [
    "## `print ()` in Python\n",
    "* Python `print()` function prints the message to the screen or any other standard output device.\n"
   ]
  },
  {
   "cell_type": "markdown",
   "metadata": {},
   "source": [
    "**`print(value(s), sep= ' ', end = '\\n', file=file, flush=flush)`**\n",
    "**Parameters:**\n",
    "* **value(s)** : Any value, and as many as you like. Will be converted to a string before printed\n",
    "* **sep=’separator’**: (Optional) Specify how to separate the objects, if there is more than one.Default :’ ‘\n",
    "* **end=’end’**: (Optional) Specify what to print at the end.Default : ‘\\n’\n",
    "* **file** : (Optional) An object with a write method. Default :sys.stdout\n",
    "* **flush** : (Optional) A Boolean, specifying if the output is flushed (True) or buffered (False). Default: False\n",
    "* **Return Type**: It returns the output to the screen."
   ]
  },
  {
   "cell_type": "code",
   "execution_count": 42,
   "metadata": {},
   "outputs": [
    {
     "name": "stdout",
     "output_type": "stream",
     "text": [
      "@,@,@,@,@,@,@,@,@,@,@,@,@,@,@,@,@,@,@,@,"
     ]
    }
   ],
   "source": [
    "for i in range(20):\n",
    "    print(\"@\",end=\",\")"
   ]
  },
  {
   "cell_type": "markdown",
   "metadata": {},
   "source": [
    "### `input ()` in Python\n",
    "* This function first takes the input from the user and converts it into a string. The type of the returned object always will be `<type ‘str’>`.\n",
    "* Whatever you enter as input, the input function converts it into a string. \n",
    "* if you enter an integer value still `input()` function converts it into a string. You need to explicitly convert it into an integer in your code using **`typecasting.`**"
   ]
  },
  {
   "cell_type": "code",
   "execution_count": 39,
   "metadata": {},
   "outputs": [
    {
     "name": "stdout",
     "output_type": "stream",
     "text": [
      "Enter Your Name:1234\n"
     ]
    }
   ],
   "source": [
    "# string input from user\n",
    "name=input(\"Enter Your Name:\")"
   ]
  },
  {
   "cell_type": "code",
   "execution_count": 40,
   "metadata": {},
   "outputs": [
    {
     "name": "stdout",
     "output_type": "stream",
     "text": [
      "1234\n"
     ]
    },
    {
     "data": {
      "text/plain": [
       "str"
      ]
     },
     "execution_count": 40,
     "metadata": {},
     "output_type": "execute_result"
    }
   ],
   "source": [
    "# showing the variable data\n",
    "print(name)\n",
    "type(name)"
   ]
  },
  {
   "cell_type": "markdown",
   "metadata": {},
   "source": [
    "### `Type() `in Python\n",
    "* **type()**  is a in python method returns class type of the `argument(object)` passed as parameter in Python.\n",
    "* by passing the object as argument you can examine the data type of that object.\n"
   ]
  },
  {
   "cell_type": "code",
   "execution_count": null,
   "metadata": {},
   "outputs": [],
   "source": [
    "# checking the data type of object\n",
    "type(name)"
   ]
  },
  {
   "cell_type": "code",
   "execution_count": 52,
   "metadata": {},
   "outputs": [
    {
     "name": "stdout",
     "output_type": "stream",
     "text": [
      "Enter Your Salary:12\n"
     ]
    }
   ],
   "source": [
    "# integer input from user\n",
    "R_salary=int(input(\"Enter Your Salary:\"))"
   ]
  },
  {
   "cell_type": "code",
   "execution_count": 53,
   "metadata": {},
   "outputs": [
    {
     "data": {
      "text/plain": [
       "12"
      ]
     },
     "execution_count": 53,
     "metadata": {},
     "output_type": "execute_result"
    }
   ],
   "source": [
    "R_salary"
   ]
  },
  {
   "cell_type": "code",
   "execution_count": 58,
   "metadata": {},
   "outputs": [
    {
     "name": "stdout",
     "output_type": "stream",
     "text": [
      "Enter Side(cm) of Square:55.66\n",
      "Area: 3098.036\n"
     ]
    }
   ],
   "source": [
    "# float input from user\n",
    "_side1=float(input(\"Enter Side(cm) of Square:\"))\n",
    "print(\"Area:\",round(_side1*_side1,3))"
   ]
  },
  {
   "cell_type": "code",
   "execution_count": 59,
   "metadata": {},
   "outputs": [
    {
     "name": "stdout",
     "output_type": "stream",
     "text": [
      "Area of Square: 3098.0355999999997\n"
     ]
    }
   ],
   "source": [
    "Area_square=_side1*_side1\n",
    "print(\"Area of Square:\",Area_square)\n"
   ]
  },
  {
   "cell_type": "code",
   "execution_count": 61,
   "metadata": {},
   "outputs": [
    {
     "name": "stdout",
     "output_type": "stream",
     "text": [
      "Area of Square with 55.66 cm side=3098.0355999999997 cm2\n"
     ]
    }
   ],
   "source": [
    "print(f\"Area of Square with {_side1} cm side={Area_square} cm2\")"
   ]
  },
  {
   "cell_type": "code",
   "execution_count": 62,
   "metadata": {},
   "outputs": [
    {
     "name": "stdout",
     "output_type": "stream",
     "text": [
      "Area of Sqare with 55.66 cm side=3098.0355999999997 cm2\n"
     ]
    }
   ],
   "source": [
    "print(\"Area of Sqare with {} cm side={} cm2\".format(_side1,Area_square))"
   ]
  },
  {
   "cell_type": "markdown",
   "metadata": {},
   "source": [
    "### `Type Conversion in Python`\n",
    "* Type conversion is the process to changing the  data type/class type of object.\n",
    "    * **There are two types of Type Conversion in Python:**\n",
    "* `1. Implicit Type Conversion:`\n",
    "     * The type of object is change automatically according to the expression/operation this means python interpreter automatically converts one data type to another without any user involvement \n",
    "* `2. Explicit Type Conversion:`\n",
    "    * In Explicit Type Conversion in Python, the data type is manually changed by the user as per their requirement.\n"
   ]
  },
  {
   "cell_type": "code",
   "execution_count": 63,
   "metadata": {},
   "outputs": [
    {
     "name": "stdout",
     "output_type": "stream",
     "text": [
      "x is contain 100 and it is type of <class 'int'>\n",
      "x is contain 10.0 and it is type of <class 'float'>\n",
      "x is contain 10.0 and it is type of <class 'float'>\n"
     ]
    }
   ],
   "source": [
    "# 1: Demonstrating Implicit type conversion.\n",
    "x=100 # x is type of <class int>\n",
    "y=10.0 # y is type of <class float>\n",
    "z=x/y  # guess the data type of z \n",
    "print(f\"x is contain {x} and it is type of {type(x)}\")\n",
    "print(f\"x is contain {y} and it is type of {type(y)}\")\n",
    "print(f\"x is contain {z} and it is type of {type(z)}\")"
   ]
  },
  {
   "cell_type": "code",
   "execution_count": 65,
   "metadata": {},
   "outputs": [
    {
     "name": "stdout",
     "output_type": "stream",
     "text": [
      "{1, 3, 4, 5, 9} \n",
      " <class 'set'>\n"
     ]
    }
   ],
   "source": [
    "# 1: Demonstrating Explicit type conversion.\n",
    "my_list=[1,3,4,4,3,5,4,9]\n",
    "list_without_duplicate=set(my_list)\n",
    "## i am explicitly changing the data type of my_list\n",
    "print(list_without_duplicate,\"\\n\",type(list_without_duplicate))"
   ]
  },
  {
   "cell_type": "markdown",
   "metadata": {},
   "source": [
    "### `bonus`\n",
    "* `int():` This function is use to convert numeric data to integer.\n",
    "* `float():` this function is used to convert numeric data float/decimal point. \n",
    "* `ord():` This function is used to convert a **character** to **integer**.\n",
    "* `hex():`This function is to convert **integer** to **hexadecimal string**.\n",
    "* `oct():` This function is to convert **integer** to **octal string**.\n",
    "* `tuple()` : This function is used to **convert to a tuple.**\n",
    "* `set() :` This function is use to **convert to set and you can use it for remove duplicate from list.**\n",
    "* `list() :` This function is used to **convert any data type to a list type.**\n",
    "* `dict() :` This function is used to convert a **tuple of order (key,value) into a dictionary.**\n",
    "* `str() :` Used to convert **numeric object into a string.**\n",
    "* `complex(real,imag) :` This function converts **real numbers to complex(real,imag) number.**\n",
    "\n",
    "\n",
    "we discuss every function with example in upcoming lecture\n"
   ]
  },
  {
   "cell_type": "markdown",
   "metadata": {},
   "source": [
    "# Day_1 Completed"
   ]
  }
 ],
 "metadata": {
  "kernelspec": {
   "display_name": "Python 3 (ipykernel)",
   "language": "python",
   "name": "python3"
  },
  "language_info": {
   "codemirror_mode": {
    "name": "ipython",
    "version": 3
   },
   "file_extension": ".py",
   "mimetype": "text/x-python",
   "name": "python",
   "nbconvert_exporter": "python",
   "pygments_lexer": "ipython3",
   "version": "3.10.9"
  },
  "varInspector": {
   "cols": {
    "lenName": 16,
    "lenType": 16,
    "lenVar": 40
   },
   "kernels_config": {
    "python": {
     "delete_cmd_postfix": "",
     "delete_cmd_prefix": "del ",
     "library": "var_list.py",
     "varRefreshCmd": "print(var_dic_list())"
    },
    "r": {
     "delete_cmd_postfix": ") ",
     "delete_cmd_prefix": "rm(",
     "library": "var_list.r",
     "varRefreshCmd": "cat(var_dic_list()) "
    }
   },
   "types_to_exclude": [
    "module",
    "function",
    "builtin_function_or_method",
    "instance",
    "_Feature"
   ],
   "window_display": false
  }
 },
 "nbformat": 4,
 "nbformat_minor": 4
}
