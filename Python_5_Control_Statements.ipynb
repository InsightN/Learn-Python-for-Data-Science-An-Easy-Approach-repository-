{
 "cells": [
  {
   "cell_type": "markdown",
   "metadata": {},
   "source": [
    "# Statement/Instruction"
   ]
  },
  {
   "cell_type": "markdown",
   "metadata": {},
   "source": [
    "* In Python, a statement is a piece of code that performs a certain action or task.\n",
    "* An instruction is another name for a statement. In other words, an instruction is a command that tells the Python interpreter to perform a specific action."
   ]
  },
  {
   "cell_type": "markdown",
   "metadata": {},
   "source": [
    "* x = \"Nandan\" (this is an assignment statement)\n",
    "* print(\"Welcome to Programming World\") (this is a function call statement)\n",
    "* if x %2: (this is an if statement)"
   ]
  },
  {
   "cell_type": "markdown",
   "metadata": {},
   "source": [
    "### Control statement"
   ]
  },
  {
   "cell_type": "markdown",
   "metadata": {},
   "source": [
    "* Control statements are used to control the flow of execution of a program. In other words, they allow you to specify which statements should be executed under certain conditions.\n",
    "\n",
    "* There are several types of control statements in Python, including:\n",
    "\n",
    "1. `if` statements\n",
    "2. `for` loops\n",
    "3. `while` loops\n",
    "4. `break` and `continue` statements"
   ]
  },
  {
   "cell_type": "markdown",
   "metadata": {},
   "source": [
    "### `1:If statements`\n",
    "\n",
    "##### `if`\n",
    "* 'if' statement is used to execute a block of code if a certain condition is true."
   ]
  },
  {
   "cell_type": "code",
   "execution_count": 1,
   "metadata": {},
   "outputs": [
    {
     "name": "stdout",
     "output_type": "stream",
     "text": [
      "Enter a Number:7\n",
      "Given Number is Positive\n"
     ]
    }
   ],
   "source": [
    "num=int(input(\"Enter a Number:\"))\n",
    "if (num > 0):\n",
    "    print(\"Given Number is Positive\")"
   ]
  },
  {
   "cell_type": "code",
   "execution_count": 2,
   "metadata": {},
   "outputs": [
    {
     "name": "stdout",
     "output_type": "stream",
     "text": [
      "Enter a Number:-1\n"
     ]
    }
   ],
   "source": [
    "## Think what if Number is Negative,It does not print anything because we does not cover that Block(else block,false block).\n",
    "num=int(input(\"Enter a Number:\"))\n",
    "if (num > 0):\n",
    "    print(\"Given Number is Positive\")"
   ]
  },
  {
   "cell_type": "markdown",
   "metadata": {},
   "source": [
    "#### 2:If -else statement\n",
    "* Now it print 'Given Number is Positive+' if number is greater than 0 else it print \"\"Given number is Negative!!!\"\"."
   ]
  },
  {
   "cell_type": "code",
   "execution_count": 4,
   "metadata": {},
   "outputs": [
    {
     "name": "stdout",
     "output_type": "stream",
     "text": [
      "Enter a Number:-8\n",
      "Given number is Negative!!!\n"
     ]
    }
   ],
   "source": [
    "# if-else\n",
    "num=int(input(\"Enter a Number:\"))\n",
    "if (num > 0):\n",
    "    print(\"Given Number is Positive+\")\n",
    "else:\n",
    "    print(\"Given number is Negative!!!\")\n"
   ]
  },
  {
   "cell_type": "markdown",
   "metadata": {},
   "source": [
    " #### 3.'if-elif' statement also called ladder if \n",
    "* if i wats to multiple condition i can use 'if-elif' or check its by connection with 'and' operator\n"
   ]
  },
  {
   "cell_type": "code",
   "execution_count": 14,
   "metadata": {
    "run_control": {
     "marked": false
    }
   },
   "outputs": [
    {
     "name": "stdout",
     "output_type": "stream",
     "text": [
      "Enter any number:0\n",
      "0 is Zero\n",
      "\n",
      "3\n"
     ]
    }
   ],
   "source": [
    "num=int(input(\"Enter any number:\"))\n",
    "i=0\n",
    "if num > 0:\n",
    "    i+=1\n",
    "    print(f\"{num} is Positive+\")\n",
    "elif num < 0:\n",
    "    i+=2\n",
    "    print(f\"{num} is Negative\")\n",
    "else:\n",
    "    i+=3\n",
    "    print(f\"{num} is Zero\")\n",
    "print()\n",
    "print(i)\n"
   ]
  },
  {
   "cell_type": "markdown",
   "metadata": {},
   "source": [
    "### Assignment  Control statement-01(if, if else, if-elif-else)"
   ]
  },
  {
   "cell_type": "markdown",
   "metadata": {},
   "source": [
    "\n",
    "Q.1.WAP that check given number is even or not, without comparing with 0.\n"
   ]
  },
  {
   "cell_type": "markdown",
   "metadata": {},
   "source": [
    "Q.2.WAP that print the largest among 3 without using else.\n"
   ]
  },
  {
   "cell_type": "markdown",
   "metadata": {},
   "source": [
    "Q.3.WAP that that take an integer input and check (i)if ‘n’ is divisible by 3 and 5 print “fizz Bizz”,(ii) if ‘n’ is divisible by 3 only print “fizz only” (iii) if ‘n’ is divisible by 5 only print “Bizz only” (iii) Otherwise, it prints “Better luck next time”.\n"
   ]
  },
  {
   "cell_type": "markdown",
   "metadata": {},
   "source": [
    "Q.4.WAP that take Salary as input and calculate ‘ha’,’ma’,’da’ and gross salary according to given condition, (i) if salary above 100000, ha->10%, ma->20%, da->15, otherwise ha->7%, ma->15%, da->10%.\n"
   ]
  },
  {
   "cell_type": "markdown",
   "metadata": {},
   "source": [
    "Q.5.Write a program that change degree Fahrenheit and convert it to Celsius and if it is greater than 36 degrees generate a warning “Its too hot”, otherwise print it is “Its ok”.\n"
   ]
  },
  {
   "cell_type": "markdown",
   "metadata": {},
   "source": [
    "## Loops\n",
    "=> loop is a control structure that allows you to repeat a block of code a specified number of times or until a certain condition is  goes false.\n",
    "\n",
    "* 'for' loop\n",
    "* 'while' loop\n",
    "* Note:- Above both loop can do same task ,but think which is best sutable for which type of problem."
   ]
  },
  {
   "cell_type": "code",
   "execution_count": 6,
   "metadata": {},
   "outputs": [
    {
     "name": "stdout",
     "output_type": "stream",
     "text": [
      "1\n",
      "38\n",
      "50\n",
      "78\n",
      "4\n",
      "465\n",
      "987\n"
     ]
    }
   ],
   "source": [
    "# Printing List of number  one by one \n",
    "my_list = [1,38,50,78,4,465,987]\n",
    "for i in my_list:\n",
    "    print(i)"
   ]
  },
  {
   "cell_type": "code",
   "execution_count": 5,
   "metadata": {},
   "outputs": [
    {
     "name": "stdout",
     "output_type": "stream",
     "text": [
      "Enter any Message:learning python \n",
      "How many time you wants to see this Message :4\n",
      "learning python \n",
      "learning python \n",
      "learning python \n",
      "learning python \n"
     ]
    }
   ],
   "source": [
    "## Loop using 'range'  function\n",
    "message=input(\"Enter any Message:\")\n",
    "x=int(input(\"How many time you wants to see this Message :\"))\n",
    "for i in range(x):\n",
    "    print(message)\n",
    "    "
   ]
  },
  {
   "cell_type": "code",
   "execution_count": 6,
   "metadata": {},
   "outputs": [
    {
     "name": "stdout",
     "output_type": "stream",
     "text": [
      "Enter any Message:python\n",
      "How many time you wants to see this Message:8\n",
      "python\n",
      "python\n",
      "python\n",
      "python\n",
      "python\n",
      "python\n",
      "python\n",
      "python\n"
     ]
    }
   ],
   "source": [
    "# doing Same think with  while loop\n",
    "message=input(\"Enter any Message:\")\n",
    "x=int(input(\"How many time you wants to see this Message:\"))\n",
    "count=0 #initilization or start point of loop\n",
    "while (count<x): # condition or stop point if counter reach to the last point\n",
    "    print(message)\n",
    "    count+=1\n"
   ]
  },
  {
   "cell_type": "code",
   "execution_count": 10,
   "metadata": {},
   "outputs": [
    {
     "name": "stdout",
     "output_type": "stream",
     "text": [
      "Enter a number to show their Multiples upto 100:3\n",
      "3 6 9 12 15 18 21 24 27 30 33 36 39 42 45 48 51 54 57 60 63 66 69 72 75 78 81 84 87 90 93 96 99 "
     ]
    }
   ],
   "source": [
    "#Loop with Break and continue\n",
    "# break statement to exit a loop early if it get i as 50 in between,\n",
    "n=int(input(\"Enter a number to show their Multiples upto 100:\"))\n",
    "for i in range(n,100,n):\n",
    "    if i==50:\n",
    "        break\n",
    "    print(i,end=\" \")"
   ]
  },
  {
   "cell_type": "code",
   "execution_count": 11,
   "metadata": {},
   "outputs": [
    {
     "name": "stdout",
     "output_type": "stream",
     "text": [
      "Enter a number to show their Multiples upto 100:3\n",
      "3\n",
      "9\n",
      "15\n",
      "21\n",
      "27\n",
      "33\n",
      "39\n",
      "45\n",
      "51\n",
      "57\n",
      "63\n",
      "69\n",
      "75\n",
      "81\n",
      "87\n",
      "93\n",
      "99\n"
     ]
    }
   ],
   "source": [
    "# and the continue statement to skip the rest of the current iteration and move on to the next one.\n",
    "n=int(input(\"Enter a number to show their Multiples upto 100:\"))\n",
    "for i in range(n,100,n):\n",
    "    if i % 2 == 0:\n",
    "        continue\n",
    "    print(i)"
   ]
  },
  {
   "cell_type": "code",
   "execution_count": 4,
   "metadata": {},
   "outputs": [],
   "source": [
    "# table 2-10"
   ]
  },
  {
   "cell_type": "code",
   "execution_count": 12,
   "metadata": {},
   "outputs": [],
   "source": [
    "# for printting table of 2 to 10 first we need a loop that iterate 2 to 10  and a loop that iterate 1 to 10 for every number."
   ]
  },
  {
   "cell_type": "code",
   "execution_count": 21,
   "metadata": {},
   "outputs": [
    {
     "name": "stdout",
     "output_type": "stream",
     "text": [
      "2||4||6||8||10||12||14||16||18||20||\n",
      "3||6||9||12||15||18||21||24||27||30||\n",
      "4||8||12||16||20||24||28||32||36||40||\n",
      "5||10||15||20||25||30||35||40||45||50||\n",
      "6||12||18||24||30||36||42||48||54||60||\n",
      "7||14||21||28||35||42||49||56||63||70||\n",
      "8||16||24||32||40||48||56||64||72||80||\n",
      "9||18||27||36||45||54||63||72||81||90||\n",
      "10||20||30||40||50||60||70||80||90||100||\n"
     ]
    }
   ],
   "source": [
    "# for printting table of 2 to 10 first we need a loop that iterate 2 to 10\n",
    "for num in range(2,11):\n",
    "   #and a loop that iterate 1 to 10 for every number. \n",
    "    for m in range(1,11):\n",
    "        print(num*m,end=\"||\")\n",
    "    print()"
   ]
  },
  {
   "cell_type": "code",
   "execution_count": 22,
   "metadata": {},
   "outputs": [
    {
     "name": "stdout",
     "output_type": "stream",
     "text": [
      "Its look like a 10x10 matrix can wee print some patter lets try\n"
     ]
    }
   ],
   "source": [
    "print(\"Its look like a 10x10 matrix can wee print some patter lets try\")"
   ]
  },
  {
   "cell_type": "markdown",
   "metadata": {},
   "source": [
    "`Pattern 1`"
   ]
  },
  {
   "cell_type": "raw",
   "metadata": {},
   "source": [
    "* * * * *\n",
    "* * * * *\n",
    "* * * * *\n",
    "* * * * *\n",
    "* * * * *\n",
    "it is 5x5 matrix patter"
   ]
  },
  {
   "cell_type": "markdown",
   "metadata": {},
   "source": [
    "`Tips:`"
   ]
  },
  {
   "cell_type": "raw",
   "metadata": {},
   "source": [
    "# how to decide how many time outer loop will run ( see the  maximum numbers of row  to be printed in patter)\n",
    "# how to decide how many time inner loop will be run( see the maximum number of columns to be printed)\n"
   ]
  },
  {
   "cell_type": "code",
   "execution_count": 23,
   "metadata": {},
   "outputs": [
    {
     "name": "stdout",
     "output_type": "stream",
     "text": [
      "* * * * * \n",
      "* * * * * \n",
      "* * * * * \n",
      "* * * * * \n",
      "* * * * * \n"
     ]
    }
   ],
   "source": [
    "max_column=5\n",
    "max_row=5\n",
    "for row in range(max_row):\n",
    "    for col in range(max_column):\n",
    "        print(\"*\",end=\" \")## here we need to print * for every row 5 times\n",
    "    print()"
   ]
  },
  {
   "cell_type": "code",
   "execution_count": 29,
   "metadata": {},
   "outputs": [
    {
     "name": "stdout",
     "output_type": "stream",
     "text": [
      "0 1 2 3 4 \n",
      "0 1 2 3 4 \n",
      "0 1 2 3 4 \n",
      "0 1 2 3 4 \n",
      "0 1 2 3 4 \n"
     ]
    }
   ],
   "source": [
    "max_column=5\n",
    "max_row=5\n",
    "for row in range(max_row):\n",
    "    for col in range(max_column):\n",
    "        print(col,end=\" \")## if i print the col value\n",
    "    print()"
   ]
  },
  {
   "cell_type": "markdown",
   "metadata": {},
   "source": [
    "`patter 2`"
   ]
  },
  {
   "cell_type": "raw",
   "metadata": {},
   "source": [
    "* * * * *\n",
    "* * * * \n",
    "* * * \n",
    "* *\n",
    "*"
   ]
  },
  {
   "cell_type": "code",
   "execution_count": 32,
   "metadata": {},
   "outputs": [
    {
     "name": "stdout",
     "output_type": "stream",
     "text": [
      "* * * * * \n",
      "* * * * \n",
      "* * * \n",
      "* * \n",
      "* \n"
     ]
    }
   ],
   "source": [
    "# here the inner loop run max_row-col times if you see and find the pattern\n",
    "max_column=5\n",
    "max_row=5\n",
    "for row in range(max_row):\n",
    "    for col in range(max_column-row):\n",
    "        print(\"*\",end=\" \")\n",
    "    print()"
   ]
  },
  {
   "cell_type": "markdown",
   "metadata": {},
   "source": [
    "`pattern 3`"
   ]
  },
  {
   "cell_type": "raw",
   "metadata": {},
   "source": [
    "        1 \n",
    "      1 2 \n",
    "    1 2 3 \n",
    "  1 2 3 4 \n",
    "1 2 3 4 5\n",
    "\n",
    "such type of pattern that contain space in left side, you must need to manage them.\n",
    "tip:\n",
    "either print space or number your task will be done ;\n"
   ]
  },
  {
   "cell_type": "code",
   "execution_count": 46,
   "metadata": {},
   "outputs": [
    {
     "name": "stdout",
     "output_type": "stream",
     "text": [
      "        * \n",
      "      * * \n",
      "    * * * \n",
      "  * * * * \n",
      "* * * * * \n"
     ]
    }
   ],
   "source": [
    "max_column=5\n",
    "max_row=5\n",
    "# managing space using if statement\n",
    "for row in range(max_row):\n",
    "    for col in range(max_column):\n",
    "        if(col>=max_column-(row+1)):\n",
    "            print(\"*\",end=\" \")\n",
    "        else:\n",
    "            print(\" \",end=\" \")\n",
    "    print()"
   ]
  },
  {
   "cell_type": "code",
   "execution_count": 47,
   "metadata": {},
   "outputs": [],
   "source": [
    "# see  below the inner loop value and try to understand the pattern and how to control the execution."
   ]
  },
  {
   "cell_type": "raw",
   "metadata": {},
   "source": [
    "0 1 2 3 4 \n",
    "0 1 2 3 4 \n",
    "0 1 2 3 4 \n",
    "0 1 2 3 4 \n",
    "0 1 2 3 4"
   ]
  },
  {
   "cell_type": "code",
   "execution_count": null,
   "metadata": {},
   "outputs": [],
   "source": []
  },
  {
   "cell_type": "markdown",
   "metadata": {},
   "source": [
    "### Assignment Loop"
   ]
  },
  {
   "cell_type": "raw",
   "metadata": {},
   "source": [
    "Q.1.Print the first 10 natural numbers using for loop.\n",
    "Q.2.Python program to print all the even numbers within the given range.\n",
    "Q.3.Write a program that print following pattern\n",
    "*                *****           A b C d E          1 2 3 5 8            2 4 8 16 32     \n",
    "**                ****           A b C d              8 5 3 2               2 4 8 16\n",
    "***                ***           A b C                  2 3 5                  2 4 8\n",
    "****                **           A b                      5 3                    2 4\n",
    "*****                *           A                          3                      2\n",
    "Q.4.Python program to calculate the sum of all numbers from 1 to a given number.\n",
    "Q.5.Python program to calculate the sum of all the odd numbers within the given range.\n",
    "Q.6.Python program to print a multiplication table of a given number\n",
    "Q.7.Python program to display numbers from a list using a for loop.\n",
    "Q.8.Python program to count the total number of digits in a number.\n",
    "Q.9.Python program to check if the given string is a palindrome.\n",
    "Q.10.Python program that accepts a word from the user and reverses it.\n",
    "Q.11.Python program to check if a given number is an Armstrong number\n",
    "Q.12.Python program to count the number of even and odd numbers from a series of numbers.\n",
    "Q.13.Python program to display all numbers within a range except the prime numbers.\n",
    "Q.14.Python program to get the Fibonacci series between 0 to 50.\n",
    "Q.15.Python program to find the factorial of a given number.\n",
    "Q.16.Python program that accepts a string and calculates the number of digits and letters.\n",
    "Q.17.Write a Python program that iterates the integers from 1 to 25.\n",
    "Q.18.Python program to check the validity of password input by users.\n",
    "Q.19.Python program to convert the month name to a number of days.\n"
   ]
  }
 ],
 "metadata": {
  "kernelspec": {
   "display_name": "Python 3 (ipykernel)",
   "language": "python",
   "name": "python3"
  },
  "language_info": {
   "codemirror_mode": {
    "name": "ipython",
    "version": 3
   },
   "file_extension": ".py",
   "mimetype": "text/x-python",
   "name": "python",
   "nbconvert_exporter": "python",
   "pygments_lexer": "ipython3",
   "version": "3.10.9"
  },
  "varInspector": {
   "cols": {
    "lenName": 16,
    "lenType": 16,
    "lenVar": 40
   },
   "kernels_config": {
    "python": {
     "delete_cmd_postfix": "",
     "delete_cmd_prefix": "del ",
     "library": "var_list.py",
     "varRefreshCmd": "print(var_dic_list())"
    },
    "r": {
     "delete_cmd_postfix": ") ",
     "delete_cmd_prefix": "rm(",
     "library": "var_list.r",
     "varRefreshCmd": "cat(var_dic_list()) "
    }
   },
   "types_to_exclude": [
    "module",
    "function",
    "builtin_function_or_method",
    "instance",
    "_Feature"
   ],
   "window_display": false
  }
 },
 "nbformat": 4,
 "nbformat_minor": 4
}
