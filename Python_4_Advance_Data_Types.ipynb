{
 "cells": [
  {
   "cell_type": "markdown",
   "metadata": {},
   "source": [
    "## List\n",
    "* list is a collection of values that can be of any data type, including other lists. Lists are ordered and changeable, and allow duplicate values"
   ]
  },
  {
   "cell_type": "code",
   "execution_count": 1,
   "metadata": {},
   "outputs": [
    {
     "name": "stdout",
     "output_type": "stream",
     "text": [
      "[1, 23, 48, 763, 826, 4, 82, 649, 87, 445, 7, 8, 63, 276]\n"
     ]
    },
    {
     "data": {
      "text/plain": [
       "14"
      ]
     },
     "execution_count": 1,
     "metadata": {},
     "output_type": "execute_result"
    }
   ],
   "source": [
    "numbers = [1,23,48,763,826,4,82,649,87,445,7,8,63,276] # Creating list with numbers \n",
    "print(numbers)\n",
    "len(numbers)"
   ]
  },
  {
   "cell_type": "code",
   "execution_count": 2,
   "metadata": {},
   "outputs": [
    {
     "data": {
      "text/plain": [
       "826"
      ]
     },
     "execution_count": 2,
     "metadata": {},
     "output_type": "execute_result"
    }
   ],
   "source": [
    "numbers[-10]"
   ]
  },
  {
   "cell_type": "code",
   "execution_count": 3,
   "metadata": {},
   "outputs": [
    {
     "data": {
      "text/plain": [
       "826"
      ]
     },
     "execution_count": 3,
     "metadata": {},
     "output_type": "execute_result"
    }
   ],
   "source": [
    "numbers[4]"
   ]
  },
  {
   "cell_type": "code",
   "execution_count": 4,
   "metadata": {},
   "outputs": [
    {
     "data": {
      "text/plain": [
       "[48, 763, 826, 4]"
      ]
     },
     "execution_count": 4,
     "metadata": {},
     "output_type": "execute_result"
    }
   ],
   "source": [
    "numbers[2:6]"
   ]
  },
  {
   "cell_type": "code",
   "execution_count": 5,
   "metadata": {},
   "outputs": [
    {
     "data": {
      "text/plain": [
       "[445, 7, 8, 63]"
      ]
     },
     "execution_count": 5,
     "metadata": {},
     "output_type": "execute_result"
    }
   ],
   "source": [
    "numbers[-5:-1]"
   ]
  },
  {
   "cell_type": "code",
   "execution_count": 6,
   "metadata": {},
   "outputs": [
    {
     "data": {
      "text/plain": [
       "[]"
      ]
     },
     "execution_count": 6,
     "metadata": {},
     "output_type": "execute_result"
    }
   ],
   "source": [
    "numbers[56:]"
   ]
  },
  {
   "cell_type": "code",
   "execution_count": 7,
   "metadata": {},
   "outputs": [
    {
     "data": {
      "text/plain": [
       "[1, 23, 48, 763, 826, 4, 82, 649, 87, 445, 7, 8, 63, 276]"
      ]
     },
     "execution_count": 7,
     "metadata": {},
     "output_type": "execute_result"
    }
   ],
   "source": [
    "numbers\n"
   ]
  },
  {
   "cell_type": "code",
   "execution_count": 8,
   "metadata": {},
   "outputs": [
    {
     "data": {
      "text/plain": [
       "[23, 48, 763, 826, 4]"
      ]
     },
     "execution_count": 8,
     "metadata": {},
     "output_type": "execute_result"
    }
   ],
   "source": [
    "numbers[1:6:1]"
   ]
  },
  {
   "cell_type": "markdown",
   "metadata": {},
   "source": [
    "1. <b>len(lst)</b>: returns the length of the list\n",
    "2. <b>lst.append(element)</b>: adds an element to the end of the list\n",
    "3. <b>lst.insert(index, element)</b>: inserts an element at a specific index in the list\n",
    "4. <b>lst.remove(element)</b>: removes the first occurrence of an element from the list\n",
    "5. <b>lst.pop()</b>: removes and returns the last element from the list\n",
    "6. <b>lst.pop(index)</b>: removes and returns the element at a specific index in the list\n",
    "7. <b>lst.clear()</b>: removes all elements from the list\n",
    "8. <b>lst.index(element)</b>: returns the index of the first occurrence of an element in the list\n",
    "9. <b>lst.count(element)</b>: returns the number of occurrences of an element in the list\n",
    "10. <b>lst.sort()</b>: sorts the elements of the list in ascending order\n",
    "11. <b>lst.reverse()</b>: reverses the order of the elements in the list\n",
    "12. <b>lst.copy()</b>: returns a shallow copy of the list\n",
    "* Note => 'lst' is your list name.\n",
    "* you can also apply some external function on list like len(),min(),max().\n"
   ]
  },
  {
   "cell_type": "code",
   "execution_count": 9,
   "metadata": {},
   "outputs": [
    {
     "name": "stdout",
     "output_type": "stream",
     "text": [
      "Enter any number to Append to the end of the list:2\n",
      "[1, 23, 48, 763, 826, 4, 82, 649, 87, 445, 7, 8, 63, 276, 2]\n"
     ]
    }
   ],
   "source": [
    "num=int(input(\"Enter any number to Append to the end of the list:\"))\n",
    "# Add an element to the end of the list\n",
    "numbers.append(num)\n",
    "print(numbers)  \n"
   ]
  },
  {
   "cell_type": "code",
   "execution_count": 10,
   "metadata": {},
   "outputs": [],
   "source": [
    "numbers.append([\"anand\",\"kumar\"])"
   ]
  },
  {
   "cell_type": "code",
   "execution_count": 11,
   "metadata": {},
   "outputs": [
    {
     "name": "stdout",
     "output_type": "stream",
     "text": [
      "[1, 23, 48, 763, 826, 4, 82, 649, 87, 445, 7, 8, 63, 276, 2, ['anand', 'kumar']]\n"
     ]
    }
   ],
   "source": [
    "print(numbers)"
   ]
  },
  {
   "cell_type": "code",
   "execution_count": 12,
   "metadata": {},
   "outputs": [
    {
     "data": {
      "text/plain": [
       "['anand', 'kumar']"
      ]
     },
     "execution_count": 12,
     "metadata": {},
     "output_type": "execute_result"
    }
   ],
   "source": [
    "numbers[-1]"
   ]
  },
  {
   "cell_type": "code",
   "execution_count": 13,
   "metadata": {},
   "outputs": [
    {
     "name": "stdout",
     "output_type": "stream",
     "text": [
      "[1, 23, 48, 763, 826, 'Avinash', 4, 82, 649, 87, 445, 7, 8, 63, 276, 2, ['anand', 'kumar']]\n"
     ]
    }
   ],
   "source": [
    "# Insert an element at a specific index\n",
    "numbers.insert(5,\"Avinash\")\n",
    "print(numbers) "
   ]
  },
  {
   "cell_type": "code",
   "execution_count": 14,
   "metadata": {},
   "outputs": [
    {
     "ename": "ValueError",
     "evalue": "list.remove(x): x not in list",
     "output_type": "error",
     "traceback": [
      "\u001b[1;31m---------------------------------------------------------------------------\u001b[0m",
      "\u001b[1;31mValueError\u001b[0m                                Traceback (most recent call last)",
      "Cell \u001b[1;32mIn[14], line 2\u001b[0m\n\u001b[0;32m      1\u001b[0m \u001b[38;5;66;03m# Remove an element from the list\u001b[39;00m\n\u001b[1;32m----> 2\u001b[0m \u001b[43mnumbers\u001b[49m\u001b[38;5;241;43m.\u001b[39;49m\u001b[43mremove\u001b[49m\u001b[43m(\u001b[49m\u001b[38;5;241;43m1000\u001b[39;49m\u001b[43m)\u001b[49m\n\u001b[0;32m      3\u001b[0m \u001b[38;5;28mprint\u001b[39m(numbers)\n",
      "\u001b[1;31mValueError\u001b[0m: list.remove(x): x not in list"
     ]
    }
   ],
   "source": [
    "# Remove an element from the list\n",
    "numbers.remove(1000)\n",
    "print(numbers)"
   ]
  },
  {
   "cell_type": "code",
   "execution_count": 15,
   "metadata": {},
   "outputs": [
    {
     "name": "stdout",
     "output_type": "stream",
     "text": [
      "['anand', 'kumar']\n",
      "[1, 23, 48, 763, 826, 'Avinash', 4, 82, 649, 87, 445, 7, 8, 63, 276, 2]\n"
     ]
    }
   ],
   "source": [
    "# Remove and return the last element from the list\n",
    "last_element = numbers.pop()\n",
    "print(last_element)  \n",
    "print(numbers)  "
   ]
  },
  {
   "cell_type": "code",
   "execution_count": 16,
   "metadata": {},
   "outputs": [
    {
     "name": "stdout",
     "output_type": "stream",
     "text": [
      "23\n",
      "[1, 48, 763, 826, 'Avinash', 4, 82, 649, 87, 445, 7, 8, 63, 276, 2]\n"
     ]
    }
   ],
   "source": [
    "# Remove and return an element from a specific index\n",
    "second_element = numbers.pop(1)\n",
    "print(second_element) \n",
    "print(numbers)  \n"
   ]
  },
  {
   "cell_type": "code",
   "execution_count": 17,
   "metadata": {},
   "outputs": [
    {
     "name": "stdout",
     "output_type": "stream",
     "text": [
      "[1, 48, 763, 826, 'Avinash', 4, 82, 649, 87, 445, 7, 8, 63, 276, 2] \n",
      " [1, 48, 763, 826, 'Avinash', 4, 82, 649, 87, 445, 7, 8, 63, 276, 2]\n"
     ]
    }
   ],
   "source": [
    "# Copying All elenment in another list\n",
    "duplicate_number=numbers.copy()\n",
    "duplicate_number2=numbers\n",
    "print(duplicate_number,\"\\n\",duplicate_number2)"
   ]
  },
  {
   "cell_type": "code",
   "execution_count": 18,
   "metadata": {},
   "outputs": [
    {
     "name": "stdout",
     "output_type": "stream",
     "text": [
      "[]\n"
     ]
    }
   ],
   "source": [
    "# Clear the list\n",
    "duplicate_number.clear()\n",
    "print(duplicate_number) "
   ]
  },
  {
   "cell_type": "code",
   "execution_count": 19,
   "metadata": {},
   "outputs": [
    {
     "name": "stdout",
     "output_type": "stream",
     "text": [
      "4\n"
     ]
    }
   ],
   "source": [
    "# check the index of an element\n",
    "print(numbers.index(\"Avinash\"))"
   ]
  },
  {
   "cell_type": "code",
   "execution_count": 20,
   "metadata": {},
   "outputs": [
    {
     "name": "stdout",
     "output_type": "stream",
     "text": [
      "1\n"
     ]
    }
   ],
   "source": [
    "# Counting the number of occurance of an element in list\n",
    "print(numbers.count(1))"
   ]
  },
  {
   "cell_type": "code",
   "execution_count": 25,
   "metadata": {},
   "outputs": [
    {
     "data": {
      "text/plain": [
       "8"
      ]
     },
     "execution_count": 25,
     "metadata": {},
     "output_type": "execute_result"
    }
   ],
   "source": [
    "numbers.pop(3)"
   ]
  },
  {
   "cell_type": "code",
   "execution_count": 29,
   "metadata": {},
   "outputs": [
    {
     "ename": "TypeError",
     "evalue": "'<' not supported between instances of 'str' and 'int'",
     "output_type": "error",
     "traceback": [
      "\u001b[1;31m---------------------------------------------------------------------------\u001b[0m",
      "\u001b[1;31mTypeError\u001b[0m                                 Traceback (most recent call last)",
      "Cell \u001b[1;32mIn[29], line 2\u001b[0m\n\u001b[0;32m      1\u001b[0m \u001b[38;5;66;03m# Sorting the list element ( showing error,why list containing str )\u001b[39;00m\n\u001b[1;32m----> 2\u001b[0m \u001b[43mnumbers\u001b[49m\u001b[38;5;241;43m.\u001b[39;49m\u001b[43msort\u001b[49m\u001b[43m(\u001b[49m\u001b[43mreverse\u001b[49m\u001b[38;5;241;43m=\u001b[39;49m\u001b[38;5;28;43;01mTrue\u001b[39;49;00m\u001b[43m)\u001b[49m\n\u001b[0;32m      3\u001b[0m \u001b[38;5;28mprint\u001b[39m(numbers)\n",
      "\u001b[1;31mTypeError\u001b[0m: '<' not supported between instances of 'str' and 'int'"
     ]
    }
   ],
   "source": [
    "# Sorting the list element ( showing error,why list containing str )\n",
    "numbers.sort(reverse=True)\n",
    "print(numbers)"
   ]
  },
  {
   "cell_type": "code",
   "execution_count": 30,
   "metadata": {},
   "outputs": [
    {
     "data": {
      "text/plain": [
       "[2, 4, 7, 63, 82, 87, 276, 445, 649, 'Avinash', 763, 48, 1]"
      ]
     },
     "execution_count": 30,
     "metadata": {},
     "output_type": "execute_result"
    }
   ],
   "source": [
    "numbers"
   ]
  },
  {
   "cell_type": "code",
   "execution_count": 37,
   "metadata": {},
   "outputs": [
    {
     "name": "stdout",
     "output_type": "stream",
     "text": [
      "[2, 4, 7, 63, 82, 87, 276, 445, 649, 'Avinash', 763, 48, 1]\n"
     ]
    }
   ],
   "source": [
    "# Reversing the order of list element\n",
    "numbers.reverse()\n",
    "print(numbers)"
   ]
  },
  {
   "cell_type": "code",
   "execution_count": 38,
   "metadata": {},
   "outputs": [
    {
     "name": "stdout",
     "output_type": "stream",
     "text": [
      "2 4 7 63 82 87 276 445 649 Avinash 763 48 1 "
     ]
    }
   ],
   "source": [
    "## iteration in list\n",
    "for i in numbers:\n",
    "    print(i,end=\" \")"
   ]
  },
  {
   "cell_type": "code",
   "execution_count": 39,
   "metadata": {},
   "outputs": [],
   "source": [
    "products=['a','b','c']\n",
    "    "
   ]
  },
  {
   "cell_type": "code",
   "execution_count": 41,
   "metadata": {},
   "outputs": [
    {
     "name": "stdout",
     "output_type": "stream",
     "text": [
      "1:Add Product at last\n",
      "2:insert at Specific position\n",
      "3:Count products\n",
      "Enter your choice:2\n",
      "Position:2\n",
      "Product name:hgvh\n"
     ]
    }
   ],
   "source": [
    "print('1:Add Product at last')\n",
    "print(\"2:insert at Specific position\")\n",
    "print(\"3:Count products\")\n",
    "ch=int(input(\"Enter your choice:\"))\n",
    "if(ch==1):\n",
    "    value=input(\"Product name:\")\n",
    "    products.append(value)\n",
    "    print(products)\n",
    "elif(ch==2):\n",
    "    pos=int(input(\"Position:\"))\n",
    "    value=input(\"Product name:\")\n",
    "    products.insert(pos,value)\n",
    "elif(ch==3):\n",
    "    print(f\"We have {len(products)} products\")"
   ]
  },
  {
   "cell_type": "code",
   "execution_count": 42,
   "metadata": {},
   "outputs": [
    {
     "data": {
      "text/plain": [
       "['a', 'b', 'hgvh', 'c']"
      ]
     },
     "execution_count": 42,
     "metadata": {},
     "output_type": "execute_result"
    }
   ],
   "source": [
    "products"
   ]
  },
  {
   "cell_type": "markdown",
   "metadata": {},
   "source": [
    "## Tuple\n",
    "* A tuple is a immutable sequence type in Python. This means that once you create a tuple, you cannot change its elements\n",
    "* tuple  have only two internal function beacouse of its immutability \n",
    "* <b>index()</b>\n",
    "* <b>count()</b>"
   ]
  },
  {
   "cell_type": "code",
   "execution_count": 44,
   "metadata": {},
   "outputs": [
    {
     "name": "stdout",
     "output_type": "stream",
     "text": [
      "(25, 45, 67, 88, 76, 545, 6, 7, 10, 25)\n"
     ]
    }
   ],
   "source": [
    "# Creating list\n",
    "numbers=(25,45,67,88,76,545,6,7,10,25)\n",
    "print(numbers)"
   ]
  },
  {
   "cell_type": "code",
   "execution_count": 45,
   "metadata": {},
   "outputs": [],
   "source": [
    "num=list(numbers)\n",
    "num.append(455678)\n",
    "numbers=tuple(num)"
   ]
  },
  {
   "cell_type": "code",
   "execution_count": 46,
   "metadata": {},
   "outputs": [
    {
     "data": {
      "text/plain": [
       "(25, 45, 67, 88, 76, 545, 6, 7, 10, 25, 455678)"
      ]
     },
     "execution_count": 46,
     "metadata": {},
     "output_type": "execute_result"
    }
   ],
   "source": [
    "numbers"
   ]
  },
  {
   "cell_type": "code",
   "execution_count": 47,
   "metadata": {},
   "outputs": [
    {
     "name": "stdout",
     "output_type": "stream",
     "text": [
      "3\n"
     ]
    }
   ],
   "source": [
    "# check the index of an element\n",
    "print(numbers.index(88))"
   ]
  },
  {
   "cell_type": "code",
   "execution_count": null,
   "metadata": {},
   "outputs": [],
   "source": [
    "# Counting the number of occurance of an element \n",
    "print(numbers.count(25))"
   ]
  },
  {
   "cell_type": "code",
   "execution_count": 48,
   "metadata": {},
   "outputs": [
    {
     "name": "stdout",
     "output_type": "stream",
     "text": [
      "11\n"
     ]
    }
   ],
   "source": [
    "# length of the tuple\n",
    "print(len(numbers)) # Output: 3"
   ]
  },
  {
   "cell_type": "code",
   "execution_count": 49,
   "metadata": {},
   "outputs": [
    {
     "name": "stdout",
     "output_type": "stream",
     "text": [
      "6\n"
     ]
    }
   ],
   "source": [
    "# minimum element of the tuple\n",
    "print(min(numbers)) # Output: 1"
   ]
  },
  {
   "cell_type": "code",
   "execution_count": 50,
   "metadata": {},
   "outputs": [
    {
     "name": "stdout",
     "output_type": "stream",
     "text": [
      "455678\n"
     ]
    }
   ],
   "source": [
    "# maximum element of the tuple\n",
    "print(max(numbers)) # Output: 3"
   ]
  },
  {
   "cell_type": "code",
   "execution_count": 51,
   "metadata": {},
   "outputs": [
    {
     "name": "stdout",
     "output_type": "stream",
     "text": [
      "25\n",
      "45\n",
      "67\n",
      "88\n",
      "76\n",
      "545\n",
      "6\n",
      "7\n",
      "10\n",
      "25\n",
      "455678\n"
     ]
    }
   ],
   "source": [
    "## iteration in tuple\n",
    "for i in numbers:\n",
    "    print(i)"
   ]
  },
  {
   "cell_type": "code",
   "execution_count": 52,
   "metadata": {},
   "outputs": [
    {
     "name": "stdout",
     "output_type": "stream",
     "text": [
      "Avinash,Kumar\n"
     ]
    }
   ],
   "source": [
    "print('Avinash',end=\",\")\n",
    "print(\"Kumar\")"
   ]
  },
  {
   "cell_type": "markdown",
   "metadata": {},
   "source": [
    "## set\n",
    "* <b>set</b> data type is a collection of unordered, unique elements. A set is defined using curly braces ({}) and can contain elements of any data type. Sets are useful for storing and manipulating data that does not need to be ordered, and for removing duplicates from a list.\n"
   ]
  },
  {
   "cell_type": "raw",
   "metadata": {},
   "source": [
    "- add(element)                # adds an element to the set\n",
    "- clear()                     # removes all elements from the set\n",
    "- copy()                      # returns a copy of the set\n",
    "- difference(other_set)       # returns a new set with elements in the set that are not in the other set\n",
    "- difference_update(other_set)# removes elements from the set that are also in the other set\n",
    "- discard(element)            # removes an element from the set if it is present\n",
    "- intersection(other_set)     # returns a new set with elements that are common to both sets\n",
    "- intersection_update(other_set) # removes elements from the set that are not present in the other set\n",
    "- isdisjoint(other_set)       # returns True if the set has no elements in common with the other set, False otherwise\n",
    "- issubset(other_set)         # returns True if the set is a subset of the other set, False otherwise\n",
    "- issuperset(other_set)       # returns True if the set is a superset of the other set, False otherwise\n",
    "- pop()                       # removes and returns an arbitrary element from the set, raises KeyError if the set is empty\n",
    "- remove(element)             # removes an element from the set, raises KeyError if the element is not present\n",
    "- symmetric_difference(other_set) # returns a new set with elements that are in either set, but not in both\n",
    "- symmetric_difference_update(other_set) # updates the set with elements that are in either set, but not in both\n",
    "- union(other_set)            # returns a new set with elements from both sets\n",
    "- update(other_set)           # adds elements from the other set to the set\n"
   ]
  },
  {
   "cell_type": "code",
   "execution_count": 53,
   "metadata": {},
   "outputs": [
    {
     "name": "stdout",
     "output_type": "stream",
     "text": [
      "{1, 2, 3, 4, 7, 9}\n"
     ]
    }
   ],
   "source": [
    "# Create two sets\n",
    "my_set = {4,7,9,1, 2, 3}\n",
    "other_set = {3, 4, 5,89,9}\n",
    "print(my_set)"
   ]
  },
  {
   "cell_type": "code",
   "execution_count": 54,
   "metadata": {},
   "outputs": [
    {
     "name": "stdout",
     "output_type": "stream",
     "text": [
      "{1, 2, 3, 4, 7, 40, 9}\n"
     ]
    }
   ],
   "source": [
    "# Add elemt to the set\n",
    "my_set.add(40)\n",
    "print(my_set)"
   ]
  },
  {
   "cell_type": "code",
   "execution_count": 55,
   "metadata": {},
   "outputs": [
    {
     "name": "stdout",
     "output_type": "stream",
     "text": [
      "{2, 3, 4, 7, 40, 9}\n"
     ]
    }
   ],
   "source": [
    "# Remove an element from the set\n",
    "my_set.remove(1)\n",
    "\n",
    "print(my_set)"
   ]
  },
  {
   "cell_type": "code",
   "execution_count": 56,
   "metadata": {},
   "outputs": [
    {
     "name": "stdout",
     "output_type": "stream",
     "text": [
      "{2, 3, 4, 7, 40, 9}\n"
     ]
    }
   ],
   "source": [
    "# Get the copy of the set\n",
    "copied_set = my_set.copy()\n",
    "\n",
    "print(copied_set)"
   ]
  },
  {
   "cell_type": "code",
   "execution_count": null,
   "metadata": {},
   "outputs": [],
   "source": [
    "copied_set1=my_set\n",
    "print(copied_set1)"
   ]
  },
  {
   "cell_type": "code",
   "execution_count": 57,
   "metadata": {},
   "outputs": [
    {
     "data": {
      "text/plain": [
       "{2, 3, 4, 7, 9, 40}"
      ]
     },
     "execution_count": 57,
     "metadata": {},
     "output_type": "execute_result"
    }
   ],
   "source": [
    "my_set"
   ]
  },
  {
   "cell_type": "code",
   "execution_count": 58,
   "metadata": {},
   "outputs": [
    {
     "data": {
      "text/plain": [
       "{3, 4, 5, 9, 89}"
      ]
     },
     "execution_count": 58,
     "metadata": {},
     "output_type": "execute_result"
    }
   ],
   "source": [
    "other_set"
   ]
  },
  {
   "cell_type": "code",
   "execution_count": 59,
   "metadata": {},
   "outputs": [
    {
     "name": "stdout",
     "output_type": "stream",
     "text": [
      "{89, 5}\n"
     ]
    }
   ],
   "source": [
    "# Get the difference between two sets\n",
    "difference = other_set.difference(my_set)\n",
    "\n",
    "print(difference)"
   ]
  },
  {
   "cell_type": "code",
   "execution_count": 60,
   "metadata": {},
   "outputs": [
    {
     "name": "stdout",
     "output_type": "stream",
     "text": [
      "{2, 7, 40}\n"
     ]
    }
   ],
   "source": [
    "# Remove elements from the set that are also in the other set\n",
    "my_set.difference_update(other_set)\n",
    "\n",
    "print(my_set)"
   ]
  },
  {
   "cell_type": "code",
   "execution_count": 61,
   "metadata": {},
   "outputs": [
    {
     "name": "stdout",
     "output_type": "stream",
     "text": [
      "{2, 7}\n"
     ]
    }
   ],
   "source": [
    "# Remove an element from the set if it is present\n",
    "my_set.discard(40)\n",
    "\n",
    "print(my_set)"
   ]
  },
  {
   "cell_type": "code",
   "execution_count": 62,
   "metadata": {},
   "outputs": [],
   "source": [
    "my_set.add(5)"
   ]
  },
  {
   "cell_type": "code",
   "execution_count": 63,
   "metadata": {},
   "outputs": [
    {
     "name": "stdout",
     "output_type": "stream",
     "text": [
      "{2, 5, 7} {89, 3, 4, 5, 9}\n"
     ]
    }
   ],
   "source": [
    "print(my_set,other_set)"
   ]
  },
  {
   "cell_type": "code",
   "execution_count": 64,
   "metadata": {},
   "outputs": [
    {
     "name": "stdout",
     "output_type": "stream",
     "text": [
      "{5}\n"
     ]
    }
   ],
   "source": [
    "# Get the intersection of two sets\n",
    "intersection = my_set.intersection(other_set)\n",
    "print(intersection)"
   ]
  },
  {
   "cell_type": "code",
   "execution_count": 65,
   "metadata": {},
   "outputs": [],
   "source": [
    "cust={\"Ram\",\"Shyam\",\"Sohan\",\"Rohan\"}\n",
    "pay=set()"
   ]
  },
  {
   "cell_type": "code",
   "execution_count": 66,
   "metadata": {},
   "outputs": [],
   "source": [
    "pay.add(\"Ram\")\n",
    "pay.add(\"Shyam\")"
   ]
  },
  {
   "cell_type": "code",
   "execution_count": 67,
   "metadata": {},
   "outputs": [
    {
     "data": {
      "text/plain": [
       "{'Ram', 'Shyam'}"
      ]
     },
     "execution_count": 67,
     "metadata": {},
     "output_type": "execute_result"
    }
   ],
   "source": [
    "cust.intersection(pay)"
   ]
  },
  {
   "cell_type": "code",
   "execution_count": null,
   "metadata": {},
   "outputs": [],
   "source": [
    "cust.difference_update(pay)\n",
    "print(cust)"
   ]
  },
  {
   "cell_type": "code",
   "execution_count": 68,
   "metadata": {},
   "outputs": [
    {
     "name": "stdout",
     "output_type": "stream",
     "text": [
      "{5}\n"
     ]
    }
   ],
   "source": [
    "# Remove elements from the set that are not present in the other set\n",
    "my_set.intersection_update(other_set)\n",
    "\n",
    "print(my_set)"
   ]
  },
  {
   "cell_type": "code",
   "execution_count": 69,
   "metadata": {},
   "outputs": [
    {
     "name": "stdout",
     "output_type": "stream",
     "text": [
      "False\n"
     ]
    }
   ],
   "source": [
    "# Check if the set has no elements in common with the other set\n",
    "isdisjoint = my_set.isdisjoint(other_set)\n",
    "print(isdisjoint)"
   ]
  },
  {
   "cell_type": "code",
   "execution_count": 70,
   "metadata": {},
   "outputs": [
    {
     "data": {
      "text/plain": [
       "True"
      ]
     },
     "execution_count": 70,
     "metadata": {},
     "output_type": "execute_result"
    }
   ],
   "source": [
    "a={12,4,5,6,78,67,7}\n",
    "aa={5,6,78,6,7}\n",
    "aa.issubset(a)"
   ]
  },
  {
   "cell_type": "code",
   "execution_count": 71,
   "metadata": {},
   "outputs": [
    {
     "name": "stdout",
     "output_type": "stream",
     "text": [
      "True\n"
     ]
    }
   ],
   "source": [
    "# Check if the set is a subset of the other set\n",
    "issubset = my_set.issubset(other_set)\n",
    "\n",
    "print(issubset)"
   ]
  },
  {
   "cell_type": "code",
   "execution_count": 72,
   "metadata": {},
   "outputs": [
    {
     "name": "stdout",
     "output_type": "stream",
     "text": [
      "False\n"
     ]
    }
   ],
   "source": [
    "# Check if the set is a superset of the other set\n",
    "issuperset = my_set.issuperset(other_set)\n",
    "\n",
    "print(issuperset)"
   ]
  },
  {
   "cell_type": "code",
   "execution_count": 73,
   "metadata": {},
   "outputs": [
    {
     "data": {
      "text/plain": [
       "True"
      ]
     },
     "execution_count": 73,
     "metadata": {},
     "output_type": "execute_result"
    }
   ],
   "source": [
    "a.issuperset(aa)\n"
   ]
  },
  {
   "cell_type": "code",
   "execution_count": 74,
   "metadata": {},
   "outputs": [
    {
     "name": "stdout",
     "output_type": "stream",
     "text": [
      "1\n"
     ]
    }
   ],
   "source": [
    "# Remove and return an arbitrary element from the set\n",
    "my_set = {4,7,9,1, 2, 3}\n",
    "popped_element = my_set.pop()\n",
    "\n",
    "print(popped_element)"
   ]
  },
  {
   "cell_type": "code",
   "execution_count": 75,
   "metadata": {},
   "outputs": [
    {
     "data": {
      "text/plain": [
       "{2, 3, 45}"
      ]
     },
     "execution_count": 75,
     "metadata": {},
     "output_type": "execute_result"
    }
   ],
   "source": [
    "a={1,2,3,45}\n",
    "b={1,34,5,4}\n",
    "a-b"
   ]
  },
  {
   "cell_type": "code",
   "execution_count": 76,
   "metadata": {},
   "outputs": [
    {
     "data": {
      "text/plain": [
       "{4, 5, 34}"
      ]
     },
     "execution_count": 76,
     "metadata": {},
     "output_type": "execute_result"
    }
   ],
   "source": [
    "b-a"
   ]
  },
  {
   "cell_type": "code",
   "execution_count": 77,
   "metadata": {},
   "outputs": [
    {
     "data": {
      "text/plain": [
       "{2, 3, 4, 5, 34, 45}"
      ]
     },
     "execution_count": 77,
     "metadata": {},
     "output_type": "execute_result"
    }
   ],
   "source": [
    "a.symmetric_difference(b)"
   ]
  },
  {
   "cell_type": "code",
   "execution_count": 78,
   "metadata": {},
   "outputs": [
    {
     "name": "stdout",
     "output_type": "stream",
     "text": [
      "{89, 2, 5, 7}\n"
     ]
    }
   ],
   "source": [
    "# Get the symmetric difference between two sets\n",
    "symmetric_difference = my_set.symmetric_difference(other_set)\n",
    "\n",
    "print(symmetric_difference)"
   ]
  },
  {
   "cell_type": "code",
   "execution_count": 79,
   "metadata": {},
   "outputs": [
    {
     "name": "stdout",
     "output_type": "stream",
     "text": [
      "{89, 2, 5, 7}\n"
     ]
    }
   ],
   "source": [
    "# Update the set with elements that are in either set, but not in both\n",
    "my_set.symmetric_difference_update(other_set)\n",
    "\n",
    "print(my_set)"
   ]
  },
  {
   "cell_type": "code",
   "execution_count": 80,
   "metadata": {},
   "outputs": [
    {
     "name": "stdout",
     "output_type": "stream",
     "text": [
      "{2, 3, 4, 5, 7, 9, 89}\n"
     ]
    }
   ],
   "source": [
    "# Get the union of two sets\n",
    "union = my_set.union(other_set)\n",
    "\n",
    "print(union)"
   ]
  },
  {
   "cell_type": "code",
   "execution_count": 81,
   "metadata": {},
   "outputs": [
    {
     "data": {
      "text/plain": [
       "{2, 5, 7, 89}"
      ]
     },
     "execution_count": 81,
     "metadata": {},
     "output_type": "execute_result"
    }
   ],
   "source": [
    "my_set"
   ]
  },
  {
   "cell_type": "code",
   "execution_count": 82,
   "metadata": {},
   "outputs": [
    {
     "name": "stdout",
     "output_type": "stream",
     "text": [
      "{2, 3, 4, 5, 6, 7, 46, 89}\n"
     ]
    }
   ],
   "source": [
    "# Add elements from the other set to the set\n",
    "my_set.update({3,6,7,4,46})\n",
    "\n",
    "print(my_set)"
   ]
  },
  {
   "cell_type": "code",
   "execution_count": 83,
   "metadata": {},
   "outputs": [
    {
     "name": "stdout",
     "output_type": "stream",
     "text": [
      "set()\n"
     ]
    }
   ],
   "source": [
    "# Clear the set\n",
    "my_set.clear()\n",
    "\n",
    "print(my_set)\n"
   ]
  },
  {
   "cell_type": "code",
   "execution_count": 84,
   "metadata": {},
   "outputs": [
    {
     "name": "stdout",
     "output_type": "stream",
     "text": [
      "89 3 4 5 9 "
     ]
    }
   ],
   "source": [
    "## iteration in set\n",
    "for i in other_set:\n",
    "    print(i,end=\" \")"
   ]
  },
  {
   "cell_type": "markdown",
   "metadata": {},
   "source": [
    "## Dictionary"
   ]
  },
  {
   "cell_type": "code",
   "execution_count": 85,
   "metadata": {},
   "outputs": [
    {
     "data": {
      "text/plain": [
       "dict"
      ]
     },
     "execution_count": 85,
     "metadata": {},
     "output_type": "execute_result"
    }
   ],
   "source": [
    "empty_dict={}\n",
    "empty_dict1=dict()\n",
    "type(empty_dict)"
   ]
  },
  {
   "cell_type": "code",
   "execution_count": null,
   "metadata": {},
   "outputs": [],
   "source": [
    "type(empty_dict1)"
   ]
  },
  {
   "cell_type": "code",
   "execution_count": null,
   "metadata": {},
   "outputs": [],
   "source": [
    "\n",
    "empty_dict['1']=\"One\"\n"
   ]
  },
  {
   "cell_type": "code",
   "execution_count": 86,
   "metadata": {},
   "outputs": [
    {
     "data": {
      "text/plain": [
       "{}"
      ]
     },
     "execution_count": 86,
     "metadata": {},
     "output_type": "execute_result"
    }
   ],
   "source": [
    "empty_dict"
   ]
  },
  {
   "cell_type": "code",
   "execution_count": 87,
   "metadata": {},
   "outputs": [],
   "source": [
    "empty_dict['2']='Two'"
   ]
  },
  {
   "cell_type": "code",
   "execution_count": 88,
   "metadata": {},
   "outputs": [],
   "source": [
    "product_sells_price={\"Prod1\":1000,\"Prod2\":3000,\"Prod3\":10000,\"Prod4\":10900,\"Prod5\":1000}"
   ]
  },
  {
   "cell_type": "code",
   "execution_count": 89,
   "metadata": {},
   "outputs": [
    {
     "ename": "KeyError",
     "evalue": "'Prod11'",
     "output_type": "error",
     "traceback": [
      "\u001b[1;31m---------------------------------------------------------------------------\u001b[0m",
      "\u001b[1;31mKeyError\u001b[0m                                  Traceback (most recent call last)",
      "Cell \u001b[1;32mIn[89], line 1\u001b[0m\n\u001b[1;32m----> 1\u001b[0m \u001b[43mproduct_sells_price\u001b[49m\u001b[43m[\u001b[49m\u001b[38;5;124;43m'\u001b[39;49m\u001b[38;5;124;43mProd11\u001b[39;49m\u001b[38;5;124;43m'\u001b[39;49m\u001b[43m]\u001b[49m\n",
      "\u001b[1;31mKeyError\u001b[0m: 'Prod11'"
     ]
    }
   ],
   "source": [
    "product_sells_price['Prod11']"
   ]
  },
  {
   "cell_type": "code",
   "execution_count": 90,
   "metadata": {},
   "outputs": [],
   "source": [
    "product_sells_price['Prod1']=2000"
   ]
  },
  {
   "cell_type": "code",
   "execution_count": 91,
   "metadata": {},
   "outputs": [],
   "source": [
    "product_sells_price[\"Prod6\"]=7000"
   ]
  },
  {
   "cell_type": "code",
   "execution_count": 92,
   "metadata": {},
   "outputs": [
    {
     "data": {
      "text/plain": [
       "{'Prod1': 2000,\n",
       " 'Prod2': 3000,\n",
       " 'Prod3': 10000,\n",
       " 'Prod4': 10900,\n",
       " 'Prod5': 1000,\n",
       " 'Prod6': 7000}"
      ]
     },
     "execution_count": 92,
     "metadata": {},
     "output_type": "execute_result"
    }
   ],
   "source": [
    "product_sells_price"
   ]
  },
  {
   "cell_type": "code",
   "execution_count": 93,
   "metadata": {},
   "outputs": [
    {
     "data": {
      "text/plain": [
       "dict_keys(['Prod1', 'Prod2', 'Prod3', 'Prod4', 'Prod5', 'Prod6'])"
      ]
     },
     "execution_count": 93,
     "metadata": {},
     "output_type": "execute_result"
    }
   ],
   "source": [
    "product_sells_price.keys()"
   ]
  },
  {
   "cell_type": "code",
   "execution_count": 94,
   "metadata": {},
   "outputs": [
    {
     "data": {
      "text/plain": [
       "dict_values([2000, 3000, 10000, 10900, 1000, 7000])"
      ]
     },
     "execution_count": 94,
     "metadata": {},
     "output_type": "execute_result"
    }
   ],
   "source": [
    "product_sells_price.values()"
   ]
  },
  {
   "cell_type": "code",
   "execution_count": 95,
   "metadata": {},
   "outputs": [
    {
     "data": {
      "text/plain": [
       "dict_items([('Prod1', 2000), ('Prod2', 3000), ('Prod3', 10000), ('Prod4', 10900), ('Prod5', 1000), ('Prod6', 7000)])"
      ]
     },
     "execution_count": 95,
     "metadata": {},
     "output_type": "execute_result"
    }
   ],
   "source": [
    "product_sells_price.items()"
   ]
  },
  {
   "cell_type": "code",
   "execution_count": 96,
   "metadata": {},
   "outputs": [
    {
     "name": "stdout",
     "output_type": "stream",
     "text": [
      "Prod1 2000\n",
      "Prod2 3000\n",
      "Prod3 10000\n",
      "Prod4 10900\n",
      "Prod5 1000\n",
      "Prod6 7000\n"
     ]
    }
   ],
   "source": [
    "for key,val in product_sells_price.items():\n",
    "    print(key,val)"
   ]
  },
  {
   "cell_type": "code",
   "execution_count": 97,
   "metadata": {},
   "outputs": [],
   "source": [
    "product={\"Prod11\":10000,\"Prod12\":13000,\"Prod13\":120000,\"Prod14\":10900,\"Prod17\":11000}"
   ]
  },
  {
   "cell_type": "code",
   "execution_count": 98,
   "metadata": {},
   "outputs": [],
   "source": [
    "product_sells_price.update(product)"
   ]
  },
  {
   "cell_type": "code",
   "execution_count": 101,
   "metadata": {},
   "outputs": [
    {
     "name": "stdout",
     "output_type": "stream",
     "text": [
      "Prod1 : 2000\n",
      "Prod2 : 3000\n",
      "Prod3 : 10000\n",
      "Prod4 : 10900\n",
      "Prod5 : 1000\n",
      "Prod6 : 7000\n",
      "Prod11 : 10000\n",
      "Prod12 : 13000\n",
      "Prod13 : 120000\n",
      "Prod14 : 10900\n",
      "Prod17 : 11000\n"
     ]
    }
   ],
   "source": [
    "for key,val in product_sells_price.items():\n",
    "    print(key,\":\",val)"
   ]
  },
  {
   "cell_type": "code",
   "execution_count": 102,
   "metadata": {},
   "outputs": [],
   "source": [
    "pro=product_sells_price.fromkeys(product_sells_price.keys(),0)"
   ]
  },
  {
   "cell_type": "code",
   "execution_count": 103,
   "metadata": {},
   "outputs": [
    {
     "data": {
      "text/plain": [
       "0"
      ]
     },
     "execution_count": 103,
     "metadata": {},
     "output_type": "execute_result"
    }
   ],
   "source": [
    "pro['Prod1']"
   ]
  },
  {
   "cell_type": "code",
   "execution_count": 104,
   "metadata": {},
   "outputs": [
    {
     "data": {
      "text/plain": [
       "{'Prod1': 0,\n",
       " 'Prod2': 0,\n",
       " 'Prod3': 0,\n",
       " 'Prod4': 0,\n",
       " 'Prod5': 0,\n",
       " 'Prod6': 0,\n",
       " 'Prod11': 0,\n",
       " 'Prod12': 0,\n",
       " 'Prod13': 0,\n",
       " 'Prod14': 0,\n",
       " 'Prod17': 0}"
      ]
     },
     "execution_count": 104,
     "metadata": {},
     "output_type": "execute_result"
    }
   ],
   "source": [
    "pro"
   ]
  },
  {
   "cell_type": "code",
   "execution_count": 105,
   "metadata": {},
   "outputs": [],
   "source": [
    "product_sells_price['Prod1']=100"
   ]
  },
  {
   "cell_type": "code",
   "execution_count": 106,
   "metadata": {},
   "outputs": [
    {
     "data": {
      "text/plain": [
       "'NOt Avilable'"
      ]
     },
     "execution_count": 106,
     "metadata": {},
     "output_type": "execute_result"
    }
   ],
   "source": [
    "product_sells_price.get('Prod21',\"NOt Avilable\")"
   ]
  },
  {
   "cell_type": "code",
   "execution_count": 107,
   "metadata": {},
   "outputs": [
    {
     "data": {
      "text/plain": [
       "100"
      ]
     },
     "execution_count": 107,
     "metadata": {},
     "output_type": "execute_result"
    }
   ],
   "source": [
    "product_sells_price['Prod1']"
   ]
  },
  {
   "cell_type": "code",
   "execution_count": 108,
   "metadata": {},
   "outputs": [
    {
     "data": {
      "text/plain": [
       "'Not Avilable'"
      ]
     },
     "execution_count": 108,
     "metadata": {},
     "output_type": "execute_result"
    }
   ],
   "source": [
    "product_sells_price.pop('Prod1111',\"Not Avilable\")"
   ]
  },
  {
   "cell_type": "code",
   "execution_count": 109,
   "metadata": {},
   "outputs": [
    {
     "data": {
      "text/plain": [
       "{'Prod1': 100,\n",
       " 'Prod2': 3000,\n",
       " 'Prod3': 10000,\n",
       " 'Prod4': 10900,\n",
       " 'Prod5': 1000,\n",
       " 'Prod6': 7000,\n",
       " 'Prod11': 10000,\n",
       " 'Prod12': 13000,\n",
       " 'Prod13': 120000,\n",
       " 'Prod14': 10900,\n",
       " 'Prod17': 11000}"
      ]
     },
     "execution_count": 109,
     "metadata": {},
     "output_type": "execute_result"
    }
   ],
   "source": [
    "product_sells_price"
   ]
  },
  {
   "cell_type": "code",
   "execution_count": 110,
   "metadata": {},
   "outputs": [
    {
     "data": {
      "text/plain": [
       "('Prod17', 11000)"
      ]
     },
     "execution_count": 110,
     "metadata": {},
     "output_type": "execute_result"
    }
   ],
   "source": [
    "product_sells_price.popitem()"
   ]
  },
  {
   "cell_type": "code",
   "execution_count": 111,
   "metadata": {},
   "outputs": [
    {
     "data": {
      "text/plain": [
       "100"
      ]
     },
     "execution_count": 111,
     "metadata": {},
     "output_type": "execute_result"
    }
   ],
   "source": [
    "product_sells_price.setdefault(\"Prod1\")"
   ]
  },
  {
   "cell_type": "code",
   "execution_count": 112,
   "metadata": {},
   "outputs": [
    {
     "data": {
      "text/plain": [
       "{'Prod1': 100,\n",
       " 'Prod2': 3000,\n",
       " 'Prod3': 10000,\n",
       " 'Prod4': 10900,\n",
       " 'Prod5': 1000,\n",
       " 'Prod6': 7000,\n",
       " 'Prod11': 10000,\n",
       " 'Prod12': 13000,\n",
       " 'Prod13': 120000,\n",
       " 'Prod14': 10900}"
      ]
     },
     "execution_count": 112,
     "metadata": {},
     "output_type": "execute_result"
    }
   ],
   "source": [
    "product_sells_price"
   ]
  },
  {
   "cell_type": "code",
   "execution_count": 113,
   "metadata": {},
   "outputs": [],
   "source": [
    "product_sells_price[\"Prod1\"]=100000"
   ]
  },
  {
   "cell_type": "code",
   "execution_count": 114,
   "metadata": {},
   "outputs": [
    {
     "data": {
      "text/plain": [
       "{'Prod1': 100000,\n",
       " 'Prod2': 3000,\n",
       " 'Prod3': 10000,\n",
       " 'Prod4': 10900,\n",
       " 'Prod5': 1000,\n",
       " 'Prod6': 7000,\n",
       " 'Prod11': 10000,\n",
       " 'Prod12': 13000,\n",
       " 'Prod13': 120000,\n",
       " 'Prod14': 10900}"
      ]
     },
     "execution_count": 114,
     "metadata": {},
     "output_type": "execute_result"
    }
   ],
   "source": [
    "product_sells_price"
   ]
  },
  {
   "cell_type": "code",
   "execution_count": 115,
   "metadata": {},
   "outputs": [],
   "source": [
    "customers={\"R_01\":{\"Name\":\"Ram Lakhan shingh\",'Account_balance':100000},\n",
    "           \"Adi_01\":{\"Name\":\"aditya Kasyap\",'Account_balance':1000000},\n",
    "          \"Sharma_001\":{\"Name\":\"Aditya kuamar sharma\",'Account_balance':10000}}"
   ]
  },
  {
   "cell_type": "code",
   "execution_count": 116,
   "metadata": {},
   "outputs": [
    {
     "data": {
      "text/plain": [
       "{'Name': 'Ram Lakhan shingh', 'Account_balance': 100000}"
      ]
     },
     "execution_count": 116,
     "metadata": {},
     "output_type": "execute_result"
    }
   ],
   "source": [
    "customers['R_01']"
   ]
  },
  {
   "cell_type": "code",
   "execution_count": 117,
   "metadata": {},
   "outputs": [
    {
     "name": "stdout",
     "output_type": "stream",
     "text": [
      "R_01 {'Name': 'Ram Lakhan shingh', 'Account_balance': 100000}\n",
      "Adi_01 {'Name': 'aditya Kasyap', 'Account_balance': 1000000}\n",
      "Sharma_001 {'Name': 'Aditya kuamar sharma', 'Account_balance': 10000}\n"
     ]
    }
   ],
   "source": [
    "for k,v in customers.items():\n",
    "    print(k,v)\n",
    "    "
   ]
  },
  {
   "cell_type": "code",
   "execution_count": 118,
   "metadata": {
    "run_control": {
     "marked": true
    }
   },
   "outputs": [
    {
     "name": "stdout",
     "output_type": "stream",
     "text": [
      "1000000\n"
     ]
    }
   ],
   "source": [
    "max_balance=customers[\"R_01\"]['Account_balance']\n",
    "for k,v in customers.items():\n",
    "        if(customers[k]['Account_balance']>max_balance):\n",
    "            max_balance=customers[k][\"Account_balance\"]\n",
    "print(max_balance)"
   ]
  },
  {
   "cell_type": "code",
   "execution_count": 119,
   "metadata": {},
   "outputs": [],
   "source": [
    "users={\"Krisha\":\"Krish_10\",\"Radha\":\"Radhye_11\",\"Ram\":\"Radhye_11\"}"
   ]
  },
  {
   "cell_type": "code",
   "execution_count": 120,
   "metadata": {},
   "outputs": [
    {
     "data": {
      "text/plain": [
       "True"
      ]
     },
     "execution_count": 120,
     "metadata": {},
     "output_type": "execute_result"
    }
   ],
   "source": [
    "\"Krisha\" in users.keys()"
   ]
  },
  {
   "cell_type": "code",
   "execution_count": 123,
   "metadata": {},
   "outputs": [
    {
     "name": "stdout",
     "output_type": "stream",
     "text": [
      "Enter your Username:Krisha\n",
      "Password:Krish_10\n",
      "Access Granted\n"
     ]
    }
   ],
   "source": [
    "username=input(\"Enter your Username:\")\n",
    "password=input(\"Password:\")\n",
    "if(username in users.keys() and users[username]==password):\n",
    "    print(\"Access Granted\")\n",
    "else:\n",
    "    print(\"Access denied\")"
   ]
  },
  {
   "cell_type": "code",
   "execution_count": null,
   "metadata": {},
   "outputs": [],
   "source": []
  }
 ],
 "metadata": {
  "kernelspec": {
   "display_name": "Python 3 (ipykernel)",
   "language": "python",
   "name": "python3"
  },
  "language_info": {
   "codemirror_mode": {
    "name": "ipython",
    "version": 3
   },
   "file_extension": ".py",
   "mimetype": "text/x-python",
   "name": "python",
   "nbconvert_exporter": "python",
   "pygments_lexer": "ipython3",
   "version": "3.10.9"
  },
  "varInspector": {
   "cols": {
    "lenName": 16,
    "lenType": 16,
    "lenVar": 40
   },
   "kernels_config": {
    "python": {
     "delete_cmd_postfix": "",
     "delete_cmd_prefix": "del ",
     "library": "var_list.py",
     "varRefreshCmd": "print(var_dic_list())"
    },
    "r": {
     "delete_cmd_postfix": ") ",
     "delete_cmd_prefix": "rm(",
     "library": "var_list.r",
     "varRefreshCmd": "cat(var_dic_list()) "
    }
   },
   "types_to_exclude": [
    "module",
    "function",
    "builtin_function_or_method",
    "instance",
    "_Feature"
   ],
   "window_display": false
  }
 },
 "nbformat": 4,
 "nbformat_minor": 4
}
